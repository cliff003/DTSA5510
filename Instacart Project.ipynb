{
 "cells": [
  {
   "cell_type": "markdown",
   "id": "4fec17f1",
   "metadata": {
    "papermill": {
     "duration": 0.015294,
     "end_time": "2022-06-27T14:39:54.724756",
     "exception": false,
     "start_time": "2022-06-27T14:39:54.709462",
     "status": "completed"
    },
    "tags": []
   },
   "source": [
    "# FINAL PROJECT \n",
    "\n",
    "**Data Source** https://www.kaggle.com/datasets/psparks/instacart-market-basket-analysis/data  \n",
    "**Github** https://github.com/cliff003/DTSA5510"
   ]
  },
  {
   "cell_type": "markdown",
   "id": "6e97c418",
   "metadata": {},
   "source": [
    "**Goal:** Instacart Market Basket Analysis is a Kaggle dataset contains orders and products information in Instacart. In this project, I would like to explore this dataset and build a recommended system for users to predict their next purchase using unsupervised machine learning algorithms."
   ]
  },
  {
   "cell_type": "code",
   "execution_count": 1,
   "id": "e343398d",
   "metadata": {
    "execution": {
     "iopub.execute_input": "2022-06-27T14:39:54.755021Z",
     "iopub.status.busy": "2022-06-27T14:39:54.754341Z",
     "iopub.status.idle": "2022-06-27T14:39:56.725925Z",
     "shell.execute_reply": "2022-06-27T14:39:56.721917Z"
    },
    "papermill": {
     "duration": 1.991427,
     "end_time": "2022-06-27T14:39:56.729565",
     "exception": false,
     "start_time": "2022-06-27T14:39:54.738138",
     "status": "completed"
    },
    "tags": []
   },
   "outputs": [],
   "source": [
    "#import important libraries\n",
    "import pandas as pd\n",
    "import seaborn as sns\n",
    "import matplotlib.pyplot as plt\n",
    "import os\n",
    "\n",
    "#modeling\n",
    "from mlxtend.preprocessing import TransactionEncoder\n",
    "from mlxtend.frequent_patterns import fpgrowth\n",
    "from mlxtend.frequent_patterns import association_rules"
   ]
  },
  {
   "cell_type": "code",
   "execution_count": 2,
   "id": "abd0bad6",
   "metadata": {
    "execution": {
     "iopub.execute_input": "2022-06-27T14:39:56.760110Z",
     "iopub.status.busy": "2022-06-27T14:39:56.758904Z",
     "iopub.status.idle": "2022-06-27T14:39:56.766590Z",
     "shell.execute_reply": "2022-06-27T14:39:56.765175Z"
    },
    "papermill": {
     "duration": 0.025672,
     "end_time": "2022-06-27T14:39:56.769858",
     "exception": false,
     "start_time": "2022-06-27T14:39:56.744186",
     "status": "completed"
    },
    "tags": []
   },
   "outputs": [],
   "source": [
    "#label file paths\n",
    "current_dir = os.getcwd()\n",
    "path_dir = os.path.join(current_dir, 'data/')\n",
    "aisles_path = path_dir + 'aisles.csv'\n",
    "departments_path = path_dir + 'departments.csv'\n",
    "order_products_prior_path = path_dir + 'order_products__prior.csv'\n",
    "order_products_train_path = path_dir + 'order_products__train.csv'\n",
    "orders_path = path_dir + 'orders.csv'\n",
    "products_path = path_dir + 'products.csv'"
   ]
  },
  {
   "cell_type": "code",
   "execution_count": 3,
   "id": "a3a91799",
   "metadata": {
    "execution": {
     "iopub.execute_input": "2022-06-27T14:39:56.798353Z",
     "iopub.status.busy": "2022-06-27T14:39:56.798016Z",
     "iopub.status.idle": "2022-06-27T14:39:56.956236Z",
     "shell.execute_reply": "2022-06-27T14:39:56.954720Z"
    },
    "papermill": {
     "duration": 0.176462,
     "end_time": "2022-06-27T14:39:56.959843",
     "exception": false,
     "start_time": "2022-06-27T14:39:56.783381",
     "status": "completed"
    },
    "tags": []
   },
   "outputs": [],
   "source": [
    "#import data\n",
    "aisles = pd.read_csv(aisles_path)\n",
    "departments = pd.read_csv(departments_path)\n",
    "order_products_prior = pd.read_csv(order_products_prior_path)\n",
    "order_products_train = pd.read_csv(order_products_train_path)\n",
    "orders = pd.read_csv(orders_path)\n",
    "products = pd.read_csv(products_path)"
   ]
  },
  {
   "cell_type": "markdown",
   "id": "b2e83d7c",
   "metadata": {
    "papermill": {
     "duration": 0.01395,
     "end_time": "2022-06-27T14:39:56.988374",
     "exception": false,
     "start_time": "2022-06-27T14:39:56.974424",
     "status": "completed"
    },
    "tags": []
   },
   "source": [
    "________\n",
    "# 1. Exploratory Analysis (EDA)\n",
    "_____"
   ]
  },
  {
   "cell_type": "markdown",
   "id": "e0c95573",
   "metadata": {},
   "source": [
    "## 1.1 Check data files"
   ]
  },
  {
   "cell_type": "markdown",
   "id": "e6b1e728",
   "metadata": {},
   "source": [
    "This dataset has 6 sepearate csv files, every file is checked to see the detail information about. "
   ]
  },
  {
   "cell_type": "markdown",
   "id": "bdc72424",
   "metadata": {},
   "source": [
    "### 1.1.1 Check aisles"
   ]
  },
  {
   "cell_type": "code",
   "execution_count": 4,
   "id": "e6f7931a",
   "metadata": {
    "_kg_hide-input": true,
    "execution": {
     "iopub.execute_input": "2022-06-27T14:39:57.102532Z",
     "iopub.status.busy": "2022-06-27T14:39:57.101659Z",
     "iopub.status.idle": "2022-06-27T14:39:57.119926Z",
     "shell.execute_reply": "2022-06-27T14:39:57.118283Z"
    },
    "papermill": {
     "duration": 0.036006,
     "end_time": "2022-06-27T14:39:57.123089",
     "exception": false,
     "start_time": "2022-06-27T14:39:57.087083",
     "status": "completed"
    },
    "tags": []
   },
   "outputs": [
    {
     "data": {
      "text/html": [
       "<div>\n",
       "<style scoped>\n",
       "    .dataframe tbody tr th:only-of-type {\n",
       "        vertical-align: middle;\n",
       "    }\n",
       "\n",
       "    .dataframe tbody tr th {\n",
       "        vertical-align: top;\n",
       "    }\n",
       "\n",
       "    .dataframe thead th {\n",
       "        text-align: right;\n",
       "    }\n",
       "</style>\n",
       "<table border=\"1\" class=\"dataframe\">\n",
       "  <thead>\n",
       "    <tr style=\"text-align: right;\">\n",
       "      <th></th>\n",
       "      <th>aisle_id</th>\n",
       "      <th>aisle</th>\n",
       "    </tr>\n",
       "  </thead>\n",
       "  <tbody>\n",
       "    <tr>\n",
       "      <th>0</th>\n",
       "      <td>1</td>\n",
       "      <td>prepared soups salads</td>\n",
       "    </tr>\n",
       "    <tr>\n",
       "      <th>1</th>\n",
       "      <td>2</td>\n",
       "      <td>specialty cheeses</td>\n",
       "    </tr>\n",
       "    <tr>\n",
       "      <th>2</th>\n",
       "      <td>3</td>\n",
       "      <td>energy granola bars</td>\n",
       "    </tr>\n",
       "    <tr>\n",
       "      <th>3</th>\n",
       "      <td>4</td>\n",
       "      <td>instant foods</td>\n",
       "    </tr>\n",
       "    <tr>\n",
       "      <th>4</th>\n",
       "      <td>5</td>\n",
       "      <td>marinades meat preparation</td>\n",
       "    </tr>\n",
       "    <tr>\n",
       "      <th>5</th>\n",
       "      <td>6</td>\n",
       "      <td>other</td>\n",
       "    </tr>\n",
       "    <tr>\n",
       "      <th>6</th>\n",
       "      <td>7</td>\n",
       "      <td>packaged meat</td>\n",
       "    </tr>\n",
       "    <tr>\n",
       "      <th>7</th>\n",
       "      <td>8</td>\n",
       "      <td>bakery desserts</td>\n",
       "    </tr>\n",
       "    <tr>\n",
       "      <th>8</th>\n",
       "      <td>9</td>\n",
       "      <td>pasta sauce</td>\n",
       "    </tr>\n",
       "    <tr>\n",
       "      <th>9</th>\n",
       "      <td>10</td>\n",
       "      <td>kitchen supplies</td>\n",
       "    </tr>\n",
       "  </tbody>\n",
       "</table>\n",
       "</div>"
      ],
      "text/plain": [
       "   aisle_id                       aisle\n",
       "0         1       prepared soups salads\n",
       "1         2           specialty cheeses\n",
       "2         3         energy granola bars\n",
       "3         4               instant foods\n",
       "4         5  marinades meat preparation\n",
       "5         6                       other\n",
       "6         7               packaged meat\n",
       "7         8             bakery desserts\n",
       "8         9                 pasta sauce\n",
       "9        10            kitchen supplies"
      ]
     },
     "execution_count": 4,
     "metadata": {},
     "output_type": "execute_result"
    }
   ],
   "source": [
    "# First few rows for aisles\n",
    "aisles.head(10)"
   ]
  },
  {
   "cell_type": "code",
   "execution_count": 5,
   "id": "ce098b06",
   "metadata": {
    "execution": {
     "iopub.execute_input": "2022-06-27T14:39:57.214678Z",
     "iopub.status.busy": "2022-06-27T14:39:57.214334Z",
     "iopub.status.idle": "2022-06-27T14:39:57.233530Z",
     "shell.execute_reply": "2022-06-27T14:39:57.231666Z"
    },
    "papermill": {
     "duration": 0.037849,
     "end_time": "2022-06-27T14:39:57.236967",
     "exception": false,
     "start_time": "2022-06-27T14:39:57.199118",
     "status": "completed"
    },
    "tags": []
   },
   "outputs": [
    {
     "name": "stdout",
     "output_type": "stream",
     "text": [
      "<class 'pandas.core.frame.DataFrame'>\n",
      "RangeIndex: 134 entries, 0 to 133\n",
      "Data columns (total 2 columns):\n",
      " #   Column    Non-Null Count  Dtype \n",
      "---  ------    --------------  ----- \n",
      " 0   aisle_id  134 non-null    int64 \n",
      " 1   aisle     134 non-null    object\n",
      "dtypes: int64(1), object(1)\n",
      "memory usage: 2.2+ KB\n"
     ]
    }
   ],
   "source": [
    "# Summary of the dataframe\n",
    "aisles.info()"
   ]
  },
  {
   "cell_type": "markdown",
   "id": "6ad8ce85",
   "metadata": {},
   "source": [
    "Aisles file contains id and aisle name, it is a supplement file for the dataset."
   ]
  },
  {
   "cell_type": "markdown",
   "id": "f4c81e33",
   "metadata": {},
   "source": [
    "### 1.1.2 Check departments"
   ]
  },
  {
   "cell_type": "code",
   "execution_count": 6,
   "id": "80e531c2",
   "metadata": {},
   "outputs": [
    {
     "data": {
      "text/html": [
       "<div>\n",
       "<style scoped>\n",
       "    .dataframe tbody tr th:only-of-type {\n",
       "        vertical-align: middle;\n",
       "    }\n",
       "\n",
       "    .dataframe tbody tr th {\n",
       "        vertical-align: top;\n",
       "    }\n",
       "\n",
       "    .dataframe thead th {\n",
       "        text-align: right;\n",
       "    }\n",
       "</style>\n",
       "<table border=\"1\" class=\"dataframe\">\n",
       "  <thead>\n",
       "    <tr style=\"text-align: right;\">\n",
       "      <th></th>\n",
       "      <th>department_id</th>\n",
       "      <th>department</th>\n",
       "    </tr>\n",
       "  </thead>\n",
       "  <tbody>\n",
       "    <tr>\n",
       "      <th>0</th>\n",
       "      <td>1</td>\n",
       "      <td>frozen</td>\n",
       "    </tr>\n",
       "    <tr>\n",
       "      <th>1</th>\n",
       "      <td>2</td>\n",
       "      <td>other</td>\n",
       "    </tr>\n",
       "    <tr>\n",
       "      <th>2</th>\n",
       "      <td>3</td>\n",
       "      <td>bakery</td>\n",
       "    </tr>\n",
       "    <tr>\n",
       "      <th>3</th>\n",
       "      <td>4</td>\n",
       "      <td>produce</td>\n",
       "    </tr>\n",
       "    <tr>\n",
       "      <th>4</th>\n",
       "      <td>5</td>\n",
       "      <td>alcohol</td>\n",
       "    </tr>\n",
       "    <tr>\n",
       "      <th>5</th>\n",
       "      <td>6</td>\n",
       "      <td>international</td>\n",
       "    </tr>\n",
       "    <tr>\n",
       "      <th>6</th>\n",
       "      <td>7</td>\n",
       "      <td>beverages</td>\n",
       "    </tr>\n",
       "    <tr>\n",
       "      <th>7</th>\n",
       "      <td>8</td>\n",
       "      <td>pets</td>\n",
       "    </tr>\n",
       "    <tr>\n",
       "      <th>8</th>\n",
       "      <td>9</td>\n",
       "      <td>dry goods pasta</td>\n",
       "    </tr>\n",
       "    <tr>\n",
       "      <th>9</th>\n",
       "      <td>10</td>\n",
       "      <td>bulk</td>\n",
       "    </tr>\n",
       "  </tbody>\n",
       "</table>\n",
       "</div>"
      ],
      "text/plain": [
       "   department_id       department\n",
       "0              1           frozen\n",
       "1              2            other\n",
       "2              3           bakery\n",
       "3              4          produce\n",
       "4              5          alcohol\n",
       "5              6    international\n",
       "6              7        beverages\n",
       "7              8             pets\n",
       "8              9  dry goods pasta\n",
       "9             10             bulk"
      ]
     },
     "execution_count": 6,
     "metadata": {},
     "output_type": "execute_result"
    }
   ],
   "source": [
    "# First few rows for departments\n",
    "departments.head(10)"
   ]
  },
  {
   "cell_type": "code",
   "execution_count": 7,
   "id": "cf285a29",
   "metadata": {},
   "outputs": [
    {
     "name": "stdout",
     "output_type": "stream",
     "text": [
      "<class 'pandas.core.frame.DataFrame'>\n",
      "RangeIndex: 21 entries, 0 to 20\n",
      "Data columns (total 2 columns):\n",
      " #   Column         Non-Null Count  Dtype \n",
      "---  ------         --------------  ----- \n",
      " 0   department_id  21 non-null     int64 \n",
      " 1   department     21 non-null     object\n",
      "dtypes: int64(1), object(1)\n",
      "memory usage: 468.0+ bytes\n"
     ]
    }
   ],
   "source": [
    "# Summary of the dataframe\n",
    "departments.info()"
   ]
  },
  {
   "cell_type": "markdown",
   "id": "d88aa0a7",
   "metadata": {},
   "source": [
    "Departments file contains id and department name, it is a supplement file for the dataset"
   ]
  },
  {
   "cell_type": "markdown",
   "id": "b1a1630e",
   "metadata": {},
   "source": [
    "### 1.1.3 Check products"
   ]
  },
  {
   "cell_type": "code",
   "execution_count": 8,
   "id": "f59718c0",
   "metadata": {},
   "outputs": [
    {
     "data": {
      "text/html": [
       "<div>\n",
       "<style scoped>\n",
       "    .dataframe tbody tr th:only-of-type {\n",
       "        vertical-align: middle;\n",
       "    }\n",
       "\n",
       "    .dataframe tbody tr th {\n",
       "        vertical-align: top;\n",
       "    }\n",
       "\n",
       "    .dataframe thead th {\n",
       "        text-align: right;\n",
       "    }\n",
       "</style>\n",
       "<table border=\"1\" class=\"dataframe\">\n",
       "  <thead>\n",
       "    <tr style=\"text-align: right;\">\n",
       "      <th></th>\n",
       "      <th>product_id</th>\n",
       "      <th>product_name</th>\n",
       "      <th>aisle_id</th>\n",
       "      <th>department_id</th>\n",
       "    </tr>\n",
       "  </thead>\n",
       "  <tbody>\n",
       "    <tr>\n",
       "      <th>0</th>\n",
       "      <td>1</td>\n",
       "      <td>Chocolate Sandwich Cookies</td>\n",
       "      <td>61</td>\n",
       "      <td>19</td>\n",
       "    </tr>\n",
       "    <tr>\n",
       "      <th>1</th>\n",
       "      <td>2</td>\n",
       "      <td>All-Seasons Salt</td>\n",
       "      <td>104</td>\n",
       "      <td>13</td>\n",
       "    </tr>\n",
       "    <tr>\n",
       "      <th>2</th>\n",
       "      <td>3</td>\n",
       "      <td>Robust Golden Unsweetened Oolong Tea</td>\n",
       "      <td>94</td>\n",
       "      <td>7</td>\n",
       "    </tr>\n",
       "    <tr>\n",
       "      <th>3</th>\n",
       "      <td>4</td>\n",
       "      <td>Smart Ones Classic Favorites Mini Rigatoni Wit...</td>\n",
       "      <td>38</td>\n",
       "      <td>1</td>\n",
       "    </tr>\n",
       "    <tr>\n",
       "      <th>4</th>\n",
       "      <td>5</td>\n",
       "      <td>Green Chile Anytime Sauce</td>\n",
       "      <td>5</td>\n",
       "      <td>13</td>\n",
       "    </tr>\n",
       "    <tr>\n",
       "      <th>5</th>\n",
       "      <td>6</td>\n",
       "      <td>Dry Nose Oil</td>\n",
       "      <td>11</td>\n",
       "      <td>11</td>\n",
       "    </tr>\n",
       "    <tr>\n",
       "      <th>6</th>\n",
       "      <td>7</td>\n",
       "      <td>Pure Coconut Water With Orange</td>\n",
       "      <td>98</td>\n",
       "      <td>7</td>\n",
       "    </tr>\n",
       "    <tr>\n",
       "      <th>7</th>\n",
       "      <td>8</td>\n",
       "      <td>Cut Russet Potatoes Steam N' Mash</td>\n",
       "      <td>116</td>\n",
       "      <td>1</td>\n",
       "    </tr>\n",
       "    <tr>\n",
       "      <th>8</th>\n",
       "      <td>9</td>\n",
       "      <td>Light Strawberry Blueberry Yogurt</td>\n",
       "      <td>120</td>\n",
       "      <td>16</td>\n",
       "    </tr>\n",
       "    <tr>\n",
       "      <th>9</th>\n",
       "      <td>10</td>\n",
       "      <td>Sparkling Orange Juice &amp; Prickly Pear Beverage</td>\n",
       "      <td>115</td>\n",
       "      <td>7</td>\n",
       "    </tr>\n",
       "  </tbody>\n",
       "</table>\n",
       "</div>"
      ],
      "text/plain": [
       "   product_id                                       product_name  aisle_id  \\\n",
       "0           1                         Chocolate Sandwich Cookies        61   \n",
       "1           2                                   All-Seasons Salt       104   \n",
       "2           3               Robust Golden Unsweetened Oolong Tea        94   \n",
       "3           4  Smart Ones Classic Favorites Mini Rigatoni Wit...        38   \n",
       "4           5                          Green Chile Anytime Sauce         5   \n",
       "5           6                                       Dry Nose Oil        11   \n",
       "6           7                     Pure Coconut Water With Orange        98   \n",
       "7           8                  Cut Russet Potatoes Steam N' Mash       116   \n",
       "8           9                  Light Strawberry Blueberry Yogurt       120   \n",
       "9          10     Sparkling Orange Juice & Prickly Pear Beverage       115   \n",
       "\n",
       "   department_id  \n",
       "0             19  \n",
       "1             13  \n",
       "2              7  \n",
       "3              1  \n",
       "4             13  \n",
       "5             11  \n",
       "6              7  \n",
       "7              1  \n",
       "8             16  \n",
       "9              7  "
      ]
     },
     "execution_count": 8,
     "metadata": {},
     "output_type": "execute_result"
    }
   ],
   "source": [
    "# First few rows for productss\n",
    "products.head(10)"
   ]
  },
  {
   "cell_type": "code",
   "execution_count": 9,
   "id": "edb021fa",
   "metadata": {},
   "outputs": [
    {
     "name": "stdout",
     "output_type": "stream",
     "text": [
      "<class 'pandas.core.frame.DataFrame'>\n",
      "RangeIndex: 49688 entries, 0 to 49687\n",
      "Data columns (total 4 columns):\n",
      " #   Column         Non-Null Count  Dtype \n",
      "---  ------         --------------  ----- \n",
      " 0   product_id     49688 non-null  int64 \n",
      " 1   product_name   49688 non-null  object\n",
      " 2   aisle_id       49688 non-null  int64 \n",
      " 3   department_id  49688 non-null  int64 \n",
      "dtypes: int64(3), object(1)\n",
      "memory usage: 1.5+ MB\n"
     ]
    }
   ],
   "source": [
    "# Summary of the dataframe\n",
    "products.info()"
   ]
  },
  {
   "cell_type": "markdown",
   "id": "1ade2754",
   "metadata": {},
   "source": [
    "Products file contains product id, product name, aisle id and department id. It is the main files for products. "
   ]
  },
  {
   "cell_type": "markdown",
   "id": "4c464fe7",
   "metadata": {},
   "source": [
    "### 1.1.4 Check orders"
   ]
  },
  {
   "cell_type": "code",
   "execution_count": 10,
   "id": "0e3b1e85",
   "metadata": {},
   "outputs": [
    {
     "data": {
      "text/html": [
       "<div>\n",
       "<style scoped>\n",
       "    .dataframe tbody tr th:only-of-type {\n",
       "        vertical-align: middle;\n",
       "    }\n",
       "\n",
       "    .dataframe tbody tr th {\n",
       "        vertical-align: top;\n",
       "    }\n",
       "\n",
       "    .dataframe thead th {\n",
       "        text-align: right;\n",
       "    }\n",
       "</style>\n",
       "<table border=\"1\" class=\"dataframe\">\n",
       "  <thead>\n",
       "    <tr style=\"text-align: right;\">\n",
       "      <th></th>\n",
       "      <th>order_id</th>\n",
       "      <th>user_id</th>\n",
       "      <th>eval_set</th>\n",
       "      <th>order_number</th>\n",
       "      <th>order_dow</th>\n",
       "      <th>order_hour_of_day</th>\n",
       "      <th>days_since_prior_order</th>\n",
       "    </tr>\n",
       "  </thead>\n",
       "  <tbody>\n",
       "    <tr>\n",
       "      <th>0</th>\n",
       "      <td>2539329</td>\n",
       "      <td>1</td>\n",
       "      <td>prior</td>\n",
       "      <td>1</td>\n",
       "      <td>2</td>\n",
       "      <td>8</td>\n",
       "      <td>NaN</td>\n",
       "    </tr>\n",
       "    <tr>\n",
       "      <th>1</th>\n",
       "      <td>2398795</td>\n",
       "      <td>1</td>\n",
       "      <td>prior</td>\n",
       "      <td>2</td>\n",
       "      <td>3</td>\n",
       "      <td>7</td>\n",
       "      <td>15.0</td>\n",
       "    </tr>\n",
       "    <tr>\n",
       "      <th>2</th>\n",
       "      <td>473747</td>\n",
       "      <td>1</td>\n",
       "      <td>prior</td>\n",
       "      <td>3</td>\n",
       "      <td>3</td>\n",
       "      <td>12</td>\n",
       "      <td>21.0</td>\n",
       "    </tr>\n",
       "    <tr>\n",
       "      <th>3</th>\n",
       "      <td>2254736</td>\n",
       "      <td>1</td>\n",
       "      <td>prior</td>\n",
       "      <td>4</td>\n",
       "      <td>4</td>\n",
       "      <td>7</td>\n",
       "      <td>29.0</td>\n",
       "    </tr>\n",
       "    <tr>\n",
       "      <th>4</th>\n",
       "      <td>431534</td>\n",
       "      <td>1</td>\n",
       "      <td>prior</td>\n",
       "      <td>5</td>\n",
       "      <td>4</td>\n",
       "      <td>15</td>\n",
       "      <td>28.0</td>\n",
       "    </tr>\n",
       "    <tr>\n",
       "      <th>5</th>\n",
       "      <td>3367565</td>\n",
       "      <td>1</td>\n",
       "      <td>prior</td>\n",
       "      <td>6</td>\n",
       "      <td>2</td>\n",
       "      <td>7</td>\n",
       "      <td>19.0</td>\n",
       "    </tr>\n",
       "    <tr>\n",
       "      <th>6</th>\n",
       "      <td>550135</td>\n",
       "      <td>1</td>\n",
       "      <td>prior</td>\n",
       "      <td>7</td>\n",
       "      <td>1</td>\n",
       "      <td>9</td>\n",
       "      <td>20.0</td>\n",
       "    </tr>\n",
       "    <tr>\n",
       "      <th>7</th>\n",
       "      <td>3108588</td>\n",
       "      <td>1</td>\n",
       "      <td>prior</td>\n",
       "      <td>8</td>\n",
       "      <td>1</td>\n",
       "      <td>14</td>\n",
       "      <td>14.0</td>\n",
       "    </tr>\n",
       "    <tr>\n",
       "      <th>8</th>\n",
       "      <td>2295261</td>\n",
       "      <td>1</td>\n",
       "      <td>prior</td>\n",
       "      <td>9</td>\n",
       "      <td>1</td>\n",
       "      <td>16</td>\n",
       "      <td>0.0</td>\n",
       "    </tr>\n",
       "    <tr>\n",
       "      <th>9</th>\n",
       "      <td>2550362</td>\n",
       "      <td>1</td>\n",
       "      <td>prior</td>\n",
       "      <td>10</td>\n",
       "      <td>4</td>\n",
       "      <td>8</td>\n",
       "      <td>30.0</td>\n",
       "    </tr>\n",
       "  </tbody>\n",
       "</table>\n",
       "</div>"
      ],
      "text/plain": [
       "   order_id  user_id eval_set  order_number  order_dow  order_hour_of_day  \\\n",
       "0   2539329        1    prior             1          2                  8   \n",
       "1   2398795        1    prior             2          3                  7   \n",
       "2    473747        1    prior             3          3                 12   \n",
       "3   2254736        1    prior             4          4                  7   \n",
       "4    431534        1    prior             5          4                 15   \n",
       "5   3367565        1    prior             6          2                  7   \n",
       "6    550135        1    prior             7          1                  9   \n",
       "7   3108588        1    prior             8          1                 14   \n",
       "8   2295261        1    prior             9          1                 16   \n",
       "9   2550362        1    prior            10          4                  8   \n",
       "\n",
       "   days_since_prior_order  \n",
       "0                     NaN  \n",
       "1                    15.0  \n",
       "2                    21.0  \n",
       "3                    29.0  \n",
       "4                    28.0  \n",
       "5                    19.0  \n",
       "6                    20.0  \n",
       "7                    14.0  \n",
       "8                     0.0  \n",
       "9                    30.0  "
      ]
     },
     "execution_count": 10,
     "metadata": {},
     "output_type": "execute_result"
    }
   ],
   "source": [
    "# First few rows for orders\n",
    "orders.head(10)"
   ]
  },
  {
   "cell_type": "code",
   "execution_count": 11,
   "id": "cf7ab40d",
   "metadata": {},
   "outputs": [
    {
     "name": "stdout",
     "output_type": "stream",
     "text": [
      "<class 'pandas.core.frame.DataFrame'>\n",
      "RangeIndex: 3421083 entries, 0 to 3421082\n",
      "Data columns (total 7 columns):\n",
      " #   Column                  Dtype  \n",
      "---  ------                  -----  \n",
      " 0   order_id                int64  \n",
      " 1   user_id                 int64  \n",
      " 2   eval_set                object \n",
      " 3   order_number            int64  \n",
      " 4   order_dow               int64  \n",
      " 5   order_hour_of_day       int64  \n",
      " 6   days_since_prior_order  float64\n",
      "dtypes: float64(1), int64(5), object(1)\n",
      "memory usage: 182.7+ MB\n"
     ]
    }
   ],
   "source": [
    "# Summary of the dataframe\n",
    "orders.info()"
   ]
  },
  {
   "cell_type": "code",
   "execution_count": 12,
   "id": "86e0ea9c",
   "metadata": {},
   "outputs": [
    {
     "data": {
      "text/html": [
       "<div>\n",
       "<style scoped>\n",
       "    .dataframe tbody tr th:only-of-type {\n",
       "        vertical-align: middle;\n",
       "    }\n",
       "\n",
       "    .dataframe tbody tr th {\n",
       "        vertical-align: top;\n",
       "    }\n",
       "\n",
       "    .dataframe thead th {\n",
       "        text-align: right;\n",
       "    }\n",
       "</style>\n",
       "<table border=\"1\" class=\"dataframe\">\n",
       "  <thead>\n",
       "    <tr style=\"text-align: right;\">\n",
       "      <th></th>\n",
       "      <th>order_id</th>\n",
       "      <th>user_id</th>\n",
       "      <th>order_number</th>\n",
       "      <th>order_dow</th>\n",
       "      <th>order_hour_of_day</th>\n",
       "      <th>days_since_prior_order</th>\n",
       "    </tr>\n",
       "  </thead>\n",
       "  <tbody>\n",
       "    <tr>\n",
       "      <th>count</th>\n",
       "      <td>3.421083e+06</td>\n",
       "      <td>3.421083e+06</td>\n",
       "      <td>3.421083e+06</td>\n",
       "      <td>3.421083e+06</td>\n",
       "      <td>3.421083e+06</td>\n",
       "      <td>3.214874e+06</td>\n",
       "    </tr>\n",
       "    <tr>\n",
       "      <th>mean</th>\n",
       "      <td>1.710542e+06</td>\n",
       "      <td>1.029782e+05</td>\n",
       "      <td>1.715486e+01</td>\n",
       "      <td>2.776219e+00</td>\n",
       "      <td>1.345202e+01</td>\n",
       "      <td>1.111484e+01</td>\n",
       "    </tr>\n",
       "    <tr>\n",
       "      <th>std</th>\n",
       "      <td>9.875817e+05</td>\n",
       "      <td>5.953372e+04</td>\n",
       "      <td>1.773316e+01</td>\n",
       "      <td>2.046829e+00</td>\n",
       "      <td>4.226088e+00</td>\n",
       "      <td>9.206737e+00</td>\n",
       "    </tr>\n",
       "    <tr>\n",
       "      <th>min</th>\n",
       "      <td>1.000000e+00</td>\n",
       "      <td>1.000000e+00</td>\n",
       "      <td>1.000000e+00</td>\n",
       "      <td>0.000000e+00</td>\n",
       "      <td>0.000000e+00</td>\n",
       "      <td>0.000000e+00</td>\n",
       "    </tr>\n",
       "    <tr>\n",
       "      <th>25%</th>\n",
       "      <td>8.552715e+05</td>\n",
       "      <td>5.139400e+04</td>\n",
       "      <td>5.000000e+00</td>\n",
       "      <td>1.000000e+00</td>\n",
       "      <td>1.000000e+01</td>\n",
       "      <td>4.000000e+00</td>\n",
       "    </tr>\n",
       "    <tr>\n",
       "      <th>50%</th>\n",
       "      <td>1.710542e+06</td>\n",
       "      <td>1.026890e+05</td>\n",
       "      <td>1.100000e+01</td>\n",
       "      <td>3.000000e+00</td>\n",
       "      <td>1.300000e+01</td>\n",
       "      <td>7.000000e+00</td>\n",
       "    </tr>\n",
       "    <tr>\n",
       "      <th>75%</th>\n",
       "      <td>2.565812e+06</td>\n",
       "      <td>1.543850e+05</td>\n",
       "      <td>2.300000e+01</td>\n",
       "      <td>5.000000e+00</td>\n",
       "      <td>1.600000e+01</td>\n",
       "      <td>1.500000e+01</td>\n",
       "    </tr>\n",
       "    <tr>\n",
       "      <th>max</th>\n",
       "      <td>3.421083e+06</td>\n",
       "      <td>2.062090e+05</td>\n",
       "      <td>1.000000e+02</td>\n",
       "      <td>6.000000e+00</td>\n",
       "      <td>2.300000e+01</td>\n",
       "      <td>3.000000e+01</td>\n",
       "    </tr>\n",
       "  </tbody>\n",
       "</table>\n",
       "</div>"
      ],
      "text/plain": [
       "           order_id       user_id  order_number     order_dow  \\\n",
       "count  3.421083e+06  3.421083e+06  3.421083e+06  3.421083e+06   \n",
       "mean   1.710542e+06  1.029782e+05  1.715486e+01  2.776219e+00   \n",
       "std    9.875817e+05  5.953372e+04  1.773316e+01  2.046829e+00   \n",
       "min    1.000000e+00  1.000000e+00  1.000000e+00  0.000000e+00   \n",
       "25%    8.552715e+05  5.139400e+04  5.000000e+00  1.000000e+00   \n",
       "50%    1.710542e+06  1.026890e+05  1.100000e+01  3.000000e+00   \n",
       "75%    2.565812e+06  1.543850e+05  2.300000e+01  5.000000e+00   \n",
       "max    3.421083e+06  2.062090e+05  1.000000e+02  6.000000e+00   \n",
       "\n",
       "       order_hour_of_day  days_since_prior_order  \n",
       "count       3.421083e+06            3.214874e+06  \n",
       "mean        1.345202e+01            1.111484e+01  \n",
       "std         4.226088e+00            9.206737e+00  \n",
       "min         0.000000e+00            0.000000e+00  \n",
       "25%         1.000000e+01            4.000000e+00  \n",
       "50%         1.300000e+01            7.000000e+00  \n",
       "75%         1.600000e+01            1.500000e+01  \n",
       "max         2.300000e+01            3.000000e+01  "
      ]
     },
     "execution_count": 12,
     "metadata": {},
     "output_type": "execute_result"
    }
   ],
   "source": [
    "# Statistical summary for numerical columns\n",
    "orders.describe()"
   ]
  },
  {
   "cell_type": "code",
   "execution_count": 13,
   "id": "2f6a6582",
   "metadata": {},
   "outputs": [
    {
     "data": {
      "text/plain": [
       "array(['prior', 'train', 'test'], dtype=object)"
      ]
     },
     "execution_count": 13,
     "metadata": {},
     "output_type": "execute_result"
    }
   ],
   "source": [
    "# Check unique values for 'eval_set'\n",
    "orders['eval_set'].unique()"
   ]
  },
  {
   "cell_type": "code",
   "execution_count": 14,
   "id": "8e77bbfb",
   "metadata": {},
   "outputs": [
    {
     "name": "stdout",
     "output_type": "stream",
     "text": [
      "Orders data has 3214874 prior data, 131209 train data, and 75000 test data.\n"
     ]
    }
   ],
   "source": [
    "prior_num = len(orders[orders['eval_set'] == 'prior'])\n",
    "train_num = len(orders[orders['eval_set'] == 'train'])\n",
    "test_num = len(orders[orders['eval_set'] == 'test'])\n",
    "print(f'Orders data has {prior_num} prior data, {train_num} train data, and {test_num} test data.')"
   ]
  },
  {
   "cell_type": "markdown",
   "id": "fc113704",
   "metadata": {},
   "source": [
    "The meanings of the variables in the Orders data are as follows:\n",
    "\n",
    "| Variable Name            | Description                                                                                                              |\n",
    "|--------------------------|--------------------------------------------------------------------------------------------------------------------------|\n",
    "| **order_id**             | A unique ID for each order.                                                                                              |\n",
    "| **user_id**              | A unique ID of the user.                                                                                                 |\n",
    "| **eval_set**             | Specifies the type of the dataset, which can be \"prior\", \"train\", or \"test\".                                             |\n",
    "| **prior**                | Represents past orders of users; part of the dataset used for understanding historical data.                             |\n",
    "| **train**                | Represents the training dataset where the model learns; used during the training phase.                                 |\n",
    "| **test**                 | Represents the test dataset used to evaluate the model's performance and make predictions on unseen data.               |\n",
    "| **order_number**         | Indicates the sequence number of the user’s order.                                                                      |\n",
    "| **order_dow**            | Day of the week the order was made, represented as a number from 0 (Sunday) to 6 (Saturday).                            |\n",
    "| **order_hour_of_day**    | The hour of the day the order was made, represented as a number from 0 to 23.                                           |\n",
    "| **days_since_prior_order** | Number of days between this order and the previous order; NaN if it's the user's first order.                          |"
   ]
  },
  {
   "cell_type": "code",
   "execution_count": 15,
   "id": "f62d23ff",
   "metadata": {},
   "outputs": [
    {
     "data": {
      "text/plain": [
       "order_id                       0\n",
       "user_id                        0\n",
       "eval_set                       0\n",
       "order_number                   0\n",
       "order_dow                      0\n",
       "order_hour_of_day              0\n",
       "days_since_prior_order    206209\n",
       "dtype: int64"
      ]
     },
     "execution_count": 15,
     "metadata": {},
     "output_type": "execute_result"
    }
   ],
   "source": [
    "# Check for NUll value in orders\n",
    "orders.isnull().sum()"
   ]
  },
  {
   "cell_type": "code",
   "execution_count": 16,
   "id": "9e233ffb",
   "metadata": {},
   "outputs": [
    {
     "data": {
      "text/plain": [
       "0"
      ]
     },
     "execution_count": 16,
     "metadata": {},
     "output_type": "execute_result"
    }
   ],
   "source": [
    "# Check for duplicated values\n",
    "orders.duplicated().sum()"
   ]
  },
  {
   "cell_type": "markdown",
   "id": "cc2a985b",
   "metadata": {},
   "source": [
    "Orders data only has null values in 'days_since_prior_order' and does not have any duplicate. It is a clean data already and can be further processed later."
   ]
  },
  {
   "cell_type": "markdown",
   "id": "e95b950b",
   "metadata": {},
   "source": [
    "### 1.1.5 Check order_products_prior"
   ]
  },
  {
   "cell_type": "code",
   "execution_count": 17,
   "id": "216a49b5",
   "metadata": {},
   "outputs": [
    {
     "data": {
      "text/html": [
       "<div>\n",
       "<style scoped>\n",
       "    .dataframe tbody tr th:only-of-type {\n",
       "        vertical-align: middle;\n",
       "    }\n",
       "\n",
       "    .dataframe tbody tr th {\n",
       "        vertical-align: top;\n",
       "    }\n",
       "\n",
       "    .dataframe thead th {\n",
       "        text-align: right;\n",
       "    }\n",
       "</style>\n",
       "<table border=\"1\" class=\"dataframe\">\n",
       "  <thead>\n",
       "    <tr style=\"text-align: right;\">\n",
       "      <th></th>\n",
       "      <th>order_id</th>\n",
       "      <th>product_id</th>\n",
       "      <th>add_to_cart_order</th>\n",
       "      <th>reordered</th>\n",
       "    </tr>\n",
       "  </thead>\n",
       "  <tbody>\n",
       "    <tr>\n",
       "      <th>0</th>\n",
       "      <td>2</td>\n",
       "      <td>33120</td>\n",
       "      <td>1</td>\n",
       "      <td>1</td>\n",
       "    </tr>\n",
       "    <tr>\n",
       "      <th>1</th>\n",
       "      <td>2</td>\n",
       "      <td>28985</td>\n",
       "      <td>2</td>\n",
       "      <td>1</td>\n",
       "    </tr>\n",
       "    <tr>\n",
       "      <th>2</th>\n",
       "      <td>2</td>\n",
       "      <td>9327</td>\n",
       "      <td>3</td>\n",
       "      <td>0</td>\n",
       "    </tr>\n",
       "    <tr>\n",
       "      <th>3</th>\n",
       "      <td>2</td>\n",
       "      <td>45918</td>\n",
       "      <td>4</td>\n",
       "      <td>1</td>\n",
       "    </tr>\n",
       "    <tr>\n",
       "      <th>4</th>\n",
       "      <td>2</td>\n",
       "      <td>30035</td>\n",
       "      <td>5</td>\n",
       "      <td>0</td>\n",
       "    </tr>\n",
       "    <tr>\n",
       "      <th>5</th>\n",
       "      <td>2</td>\n",
       "      <td>17794</td>\n",
       "      <td>6</td>\n",
       "      <td>1</td>\n",
       "    </tr>\n",
       "    <tr>\n",
       "      <th>6</th>\n",
       "      <td>2</td>\n",
       "      <td>40141</td>\n",
       "      <td>7</td>\n",
       "      <td>1</td>\n",
       "    </tr>\n",
       "    <tr>\n",
       "      <th>7</th>\n",
       "      <td>2</td>\n",
       "      <td>1819</td>\n",
       "      <td>8</td>\n",
       "      <td>1</td>\n",
       "    </tr>\n",
       "    <tr>\n",
       "      <th>8</th>\n",
       "      <td>2</td>\n",
       "      <td>43668</td>\n",
       "      <td>9</td>\n",
       "      <td>0</td>\n",
       "    </tr>\n",
       "    <tr>\n",
       "      <th>9</th>\n",
       "      <td>3</td>\n",
       "      <td>33754</td>\n",
       "      <td>1</td>\n",
       "      <td>1</td>\n",
       "    </tr>\n",
       "  </tbody>\n",
       "</table>\n",
       "</div>"
      ],
      "text/plain": [
       "   order_id  product_id  add_to_cart_order  reordered\n",
       "0         2       33120                  1          1\n",
       "1         2       28985                  2          1\n",
       "2         2        9327                  3          0\n",
       "3         2       45918                  4          1\n",
       "4         2       30035                  5          0\n",
       "5         2       17794                  6          1\n",
       "6         2       40141                  7          1\n",
       "7         2        1819                  8          1\n",
       "8         2       43668                  9          0\n",
       "9         3       33754                  1          1"
      ]
     },
     "execution_count": 17,
     "metadata": {},
     "output_type": "execute_result"
    }
   ],
   "source": [
    "# First few rows for order_products_prior\n",
    "order_products_prior.head(10)"
   ]
  },
  {
   "cell_type": "code",
   "execution_count": 18,
   "id": "29aed9e3",
   "metadata": {},
   "outputs": [
    {
     "name": "stdout",
     "output_type": "stream",
     "text": [
      "<class 'pandas.core.frame.DataFrame'>\n",
      "RangeIndex: 32434489 entries, 0 to 32434488\n",
      "Data columns (total 4 columns):\n",
      " #   Column             Dtype\n",
      "---  ------             -----\n",
      " 0   order_id           int64\n",
      " 1   product_id         int64\n",
      " 2   add_to_cart_order  int64\n",
      " 3   reordered          int64\n",
      "dtypes: int64(4)\n",
      "memory usage: 989.8 MB\n"
     ]
    }
   ],
   "source": [
    "# Summary of the dataframe\n",
    "order_products_prior.info()"
   ]
  },
  {
   "cell_type": "markdown",
   "id": "94e5c82b",
   "metadata": {},
   "source": [
    "The meanings of the variables in the order_products_prior data are as follows:\n",
    "\n",
    "| Variable Name        | Description                                                                                              |\n",
    "|----------------------|----------------------------------------------------------------------------------------------------------|\n",
    "| **order_id**         | Identifies the unique ID of the order in which the product was purchased.                                |\n",
    "| **product_id**       | Identifies the unique ID of the product that was purchased.                                              |\n",
    "| **add_to_cart_order**| Indicates the sequence in which the product was added to the cart during the order process.              |\n",
    "| **reordered**        | Indicates whether the product has been previously ordered by the customer. `0` = No, `1` = Yes.          |\n"
   ]
  },
  {
   "cell_type": "markdown",
   "id": "85e12dd2",
   "metadata": {},
   "source": [
    "### 1.1.6 Check order_products_train"
   ]
  },
  {
   "cell_type": "code",
   "execution_count": 19,
   "id": "31b057bd",
   "metadata": {},
   "outputs": [
    {
     "data": {
      "text/html": [
       "<div>\n",
       "<style scoped>\n",
       "    .dataframe tbody tr th:only-of-type {\n",
       "        vertical-align: middle;\n",
       "    }\n",
       "\n",
       "    .dataframe tbody tr th {\n",
       "        vertical-align: top;\n",
       "    }\n",
       "\n",
       "    .dataframe thead th {\n",
       "        text-align: right;\n",
       "    }\n",
       "</style>\n",
       "<table border=\"1\" class=\"dataframe\">\n",
       "  <thead>\n",
       "    <tr style=\"text-align: right;\">\n",
       "      <th></th>\n",
       "      <th>order_id</th>\n",
       "      <th>product_id</th>\n",
       "      <th>add_to_cart_order</th>\n",
       "      <th>reordered</th>\n",
       "    </tr>\n",
       "  </thead>\n",
       "  <tbody>\n",
       "    <tr>\n",
       "      <th>0</th>\n",
       "      <td>1</td>\n",
       "      <td>49302</td>\n",
       "      <td>1</td>\n",
       "      <td>1</td>\n",
       "    </tr>\n",
       "    <tr>\n",
       "      <th>1</th>\n",
       "      <td>1</td>\n",
       "      <td>11109</td>\n",
       "      <td>2</td>\n",
       "      <td>1</td>\n",
       "    </tr>\n",
       "    <tr>\n",
       "      <th>2</th>\n",
       "      <td>1</td>\n",
       "      <td>10246</td>\n",
       "      <td>3</td>\n",
       "      <td>0</td>\n",
       "    </tr>\n",
       "    <tr>\n",
       "      <th>3</th>\n",
       "      <td>1</td>\n",
       "      <td>49683</td>\n",
       "      <td>4</td>\n",
       "      <td>0</td>\n",
       "    </tr>\n",
       "    <tr>\n",
       "      <th>4</th>\n",
       "      <td>1</td>\n",
       "      <td>43633</td>\n",
       "      <td>5</td>\n",
       "      <td>1</td>\n",
       "    </tr>\n",
       "    <tr>\n",
       "      <th>5</th>\n",
       "      <td>1</td>\n",
       "      <td>13176</td>\n",
       "      <td>6</td>\n",
       "      <td>0</td>\n",
       "    </tr>\n",
       "    <tr>\n",
       "      <th>6</th>\n",
       "      <td>1</td>\n",
       "      <td>47209</td>\n",
       "      <td>7</td>\n",
       "      <td>0</td>\n",
       "    </tr>\n",
       "    <tr>\n",
       "      <th>7</th>\n",
       "      <td>1</td>\n",
       "      <td>22035</td>\n",
       "      <td>8</td>\n",
       "      <td>1</td>\n",
       "    </tr>\n",
       "    <tr>\n",
       "      <th>8</th>\n",
       "      <td>36</td>\n",
       "      <td>39612</td>\n",
       "      <td>1</td>\n",
       "      <td>0</td>\n",
       "    </tr>\n",
       "    <tr>\n",
       "      <th>9</th>\n",
       "      <td>36</td>\n",
       "      <td>19660</td>\n",
       "      <td>2</td>\n",
       "      <td>1</td>\n",
       "    </tr>\n",
       "  </tbody>\n",
       "</table>\n",
       "</div>"
      ],
      "text/plain": [
       "   order_id  product_id  add_to_cart_order  reordered\n",
       "0         1       49302                  1          1\n",
       "1         1       11109                  2          1\n",
       "2         1       10246                  3          0\n",
       "3         1       49683                  4          0\n",
       "4         1       43633                  5          1\n",
       "5         1       13176                  6          0\n",
       "6         1       47209                  7          0\n",
       "7         1       22035                  8          1\n",
       "8        36       39612                  1          0\n",
       "9        36       19660                  2          1"
      ]
     },
     "execution_count": 19,
     "metadata": {},
     "output_type": "execute_result"
    }
   ],
   "source": [
    "# First few rows for order_products_train\n",
    "order_products_train.head(10)"
   ]
  },
  {
   "cell_type": "code",
   "execution_count": 20,
   "id": "0de041d0",
   "metadata": {},
   "outputs": [
    {
     "name": "stdout",
     "output_type": "stream",
     "text": [
      "<class 'pandas.core.frame.DataFrame'>\n",
      "RangeIndex: 1384617 entries, 0 to 1384616\n",
      "Data columns (total 4 columns):\n",
      " #   Column             Non-Null Count    Dtype\n",
      "---  ------             --------------    -----\n",
      " 0   order_id           1384617 non-null  int64\n",
      " 1   product_id         1384617 non-null  int64\n",
      " 2   add_to_cart_order  1384617 non-null  int64\n",
      " 3   reordered          1384617 non-null  int64\n",
      "dtypes: int64(4)\n",
      "memory usage: 42.3 MB\n"
     ]
    }
   ],
   "source": [
    "order_products_train.info()"
   ]
  },
  {
   "cell_type": "markdown",
   "id": "204b37d5",
   "metadata": {},
   "source": [
    "The train data is similar to the prior data, with same feature descriptions."
   ]
  },
  {
   "cell_type": "markdown",
   "id": "d45262fe",
   "metadata": {},
   "source": [
    "Overall data description:  \n",
    "\n",
    "<img src=https://raw.githubusercontent.com/cliff003/DTSA5510/main/images/description.png width=1000 alt=\"description\">  "
   ]
  },
  {
   "cell_type": "markdown",
   "id": "33583c99",
   "metadata": {},
   "source": [
    "## 1.2 Merge dataset"
   ]
  },
  {
   "cell_type": "markdown",
   "id": "7c1c87ab",
   "metadata": {},
   "source": [
    "After checking data files, some of the files can be merged together to be processed."
   ]
  },
  {
   "cell_type": "code",
   "execution_count": 21,
   "id": "a663de95",
   "metadata": {},
   "outputs": [
    {
     "data": {
      "text/html": [
       "<div>\n",
       "<style scoped>\n",
       "    .dataframe tbody tr th:only-of-type {\n",
       "        vertical-align: middle;\n",
       "    }\n",
       "\n",
       "    .dataframe tbody tr th {\n",
       "        vertical-align: top;\n",
       "    }\n",
       "\n",
       "    .dataframe thead th {\n",
       "        text-align: right;\n",
       "    }\n",
       "</style>\n",
       "<table border=\"1\" class=\"dataframe\">\n",
       "  <thead>\n",
       "    <tr style=\"text-align: right;\">\n",
       "      <th></th>\n",
       "      <th>order_id</th>\n",
       "      <th>product_id</th>\n",
       "      <th>add_to_cart_order</th>\n",
       "      <th>reordered</th>\n",
       "      <th>user_id</th>\n",
       "      <th>eval_set</th>\n",
       "      <th>order_number</th>\n",
       "      <th>order_dow</th>\n",
       "      <th>order_hour_of_day</th>\n",
       "      <th>days_since_prior_order</th>\n",
       "    </tr>\n",
       "  </thead>\n",
       "  <tbody>\n",
       "    <tr>\n",
       "      <th>0</th>\n",
       "      <td>2</td>\n",
       "      <td>33120</td>\n",
       "      <td>1</td>\n",
       "      <td>1</td>\n",
       "      <td>202279</td>\n",
       "      <td>prior</td>\n",
       "      <td>3</td>\n",
       "      <td>5</td>\n",
       "      <td>9</td>\n",
       "      <td>8.0</td>\n",
       "    </tr>\n",
       "    <tr>\n",
       "      <th>1</th>\n",
       "      <td>2</td>\n",
       "      <td>28985</td>\n",
       "      <td>2</td>\n",
       "      <td>1</td>\n",
       "      <td>202279</td>\n",
       "      <td>prior</td>\n",
       "      <td>3</td>\n",
       "      <td>5</td>\n",
       "      <td>9</td>\n",
       "      <td>8.0</td>\n",
       "    </tr>\n",
       "    <tr>\n",
       "      <th>2</th>\n",
       "      <td>2</td>\n",
       "      <td>9327</td>\n",
       "      <td>3</td>\n",
       "      <td>0</td>\n",
       "      <td>202279</td>\n",
       "      <td>prior</td>\n",
       "      <td>3</td>\n",
       "      <td>5</td>\n",
       "      <td>9</td>\n",
       "      <td>8.0</td>\n",
       "    </tr>\n",
       "    <tr>\n",
       "      <th>3</th>\n",
       "      <td>2</td>\n",
       "      <td>45918</td>\n",
       "      <td>4</td>\n",
       "      <td>1</td>\n",
       "      <td>202279</td>\n",
       "      <td>prior</td>\n",
       "      <td>3</td>\n",
       "      <td>5</td>\n",
       "      <td>9</td>\n",
       "      <td>8.0</td>\n",
       "    </tr>\n",
       "    <tr>\n",
       "      <th>4</th>\n",
       "      <td>2</td>\n",
       "      <td>30035</td>\n",
       "      <td>5</td>\n",
       "      <td>0</td>\n",
       "      <td>202279</td>\n",
       "      <td>prior</td>\n",
       "      <td>3</td>\n",
       "      <td>5</td>\n",
       "      <td>9</td>\n",
       "      <td>8.0</td>\n",
       "    </tr>\n",
       "    <tr>\n",
       "      <th>5</th>\n",
       "      <td>2</td>\n",
       "      <td>17794</td>\n",
       "      <td>6</td>\n",
       "      <td>1</td>\n",
       "      <td>202279</td>\n",
       "      <td>prior</td>\n",
       "      <td>3</td>\n",
       "      <td>5</td>\n",
       "      <td>9</td>\n",
       "      <td>8.0</td>\n",
       "    </tr>\n",
       "    <tr>\n",
       "      <th>6</th>\n",
       "      <td>2</td>\n",
       "      <td>40141</td>\n",
       "      <td>7</td>\n",
       "      <td>1</td>\n",
       "      <td>202279</td>\n",
       "      <td>prior</td>\n",
       "      <td>3</td>\n",
       "      <td>5</td>\n",
       "      <td>9</td>\n",
       "      <td>8.0</td>\n",
       "    </tr>\n",
       "    <tr>\n",
       "      <th>7</th>\n",
       "      <td>2</td>\n",
       "      <td>1819</td>\n",
       "      <td>8</td>\n",
       "      <td>1</td>\n",
       "      <td>202279</td>\n",
       "      <td>prior</td>\n",
       "      <td>3</td>\n",
       "      <td>5</td>\n",
       "      <td>9</td>\n",
       "      <td>8.0</td>\n",
       "    </tr>\n",
       "    <tr>\n",
       "      <th>8</th>\n",
       "      <td>2</td>\n",
       "      <td>43668</td>\n",
       "      <td>9</td>\n",
       "      <td>0</td>\n",
       "      <td>202279</td>\n",
       "      <td>prior</td>\n",
       "      <td>3</td>\n",
       "      <td>5</td>\n",
       "      <td>9</td>\n",
       "      <td>8.0</td>\n",
       "    </tr>\n",
       "    <tr>\n",
       "      <th>9</th>\n",
       "      <td>3</td>\n",
       "      <td>33754</td>\n",
       "      <td>1</td>\n",
       "      <td>1</td>\n",
       "      <td>205970</td>\n",
       "      <td>prior</td>\n",
       "      <td>16</td>\n",
       "      <td>5</td>\n",
       "      <td>17</td>\n",
       "      <td>12.0</td>\n",
       "    </tr>\n",
       "  </tbody>\n",
       "</table>\n",
       "</div>"
      ],
      "text/plain": [
       "   order_id  product_id  add_to_cart_order  reordered  user_id eval_set  \\\n",
       "0         2       33120                  1          1   202279    prior   \n",
       "1         2       28985                  2          1   202279    prior   \n",
       "2         2        9327                  3          0   202279    prior   \n",
       "3         2       45918                  4          1   202279    prior   \n",
       "4         2       30035                  5          0   202279    prior   \n",
       "5         2       17794                  6          1   202279    prior   \n",
       "6         2       40141                  7          1   202279    prior   \n",
       "7         2        1819                  8          1   202279    prior   \n",
       "8         2       43668                  9          0   202279    prior   \n",
       "9         3       33754                  1          1   205970    prior   \n",
       "\n",
       "   order_number  order_dow  order_hour_of_day  days_since_prior_order  \n",
       "0             3          5                  9                     8.0  \n",
       "1             3          5                  9                     8.0  \n",
       "2             3          5                  9                     8.0  \n",
       "3             3          5                  9                     8.0  \n",
       "4             3          5                  9                     8.0  \n",
       "5             3          5                  9                     8.0  \n",
       "6             3          5                  9                     8.0  \n",
       "7             3          5                  9                     8.0  \n",
       "8             3          5                  9                     8.0  \n",
       "9            16          5                 17                    12.0  "
      ]
     },
     "execution_count": 21,
     "metadata": {},
     "output_type": "execute_result"
    }
   ],
   "source": [
    "# Merge order and order_products\n",
    "df = pd.merge(order_products_prior, orders, how='inner', on='order_id')\n",
    "df.head(10)"
   ]
  },
  {
   "cell_type": "code",
   "execution_count": 22,
   "id": "10b15308",
   "metadata": {},
   "outputs": [
    {
     "data": {
      "text/html": [
       "<div>\n",
       "<style scoped>\n",
       "    .dataframe tbody tr th:only-of-type {\n",
       "        vertical-align: middle;\n",
       "    }\n",
       "\n",
       "    .dataframe tbody tr th {\n",
       "        vertical-align: top;\n",
       "    }\n",
       "\n",
       "    .dataframe thead th {\n",
       "        text-align: right;\n",
       "    }\n",
       "</style>\n",
       "<table border=\"1\" class=\"dataframe\">\n",
       "  <thead>\n",
       "    <tr style=\"text-align: right;\">\n",
       "      <th></th>\n",
       "      <th>product_id</th>\n",
       "      <th>product_name</th>\n",
       "      <th>aisle_id</th>\n",
       "      <th>department_id</th>\n",
       "      <th>aisle</th>\n",
       "      <th>department</th>\n",
       "    </tr>\n",
       "  </thead>\n",
       "  <tbody>\n",
       "    <tr>\n",
       "      <th>0</th>\n",
       "      <td>1</td>\n",
       "      <td>Chocolate Sandwich Cookies</td>\n",
       "      <td>61</td>\n",
       "      <td>19</td>\n",
       "      <td>cookies cakes</td>\n",
       "      <td>snacks</td>\n",
       "    </tr>\n",
       "    <tr>\n",
       "      <th>1</th>\n",
       "      <td>2</td>\n",
       "      <td>All-Seasons Salt</td>\n",
       "      <td>104</td>\n",
       "      <td>13</td>\n",
       "      <td>spices seasonings</td>\n",
       "      <td>pantry</td>\n",
       "    </tr>\n",
       "    <tr>\n",
       "      <th>2</th>\n",
       "      <td>3</td>\n",
       "      <td>Robust Golden Unsweetened Oolong Tea</td>\n",
       "      <td>94</td>\n",
       "      <td>7</td>\n",
       "      <td>tea</td>\n",
       "      <td>beverages</td>\n",
       "    </tr>\n",
       "    <tr>\n",
       "      <th>3</th>\n",
       "      <td>4</td>\n",
       "      <td>Smart Ones Classic Favorites Mini Rigatoni Wit...</td>\n",
       "      <td>38</td>\n",
       "      <td>1</td>\n",
       "      <td>frozen meals</td>\n",
       "      <td>frozen</td>\n",
       "    </tr>\n",
       "    <tr>\n",
       "      <th>4</th>\n",
       "      <td>5</td>\n",
       "      <td>Green Chile Anytime Sauce</td>\n",
       "      <td>5</td>\n",
       "      <td>13</td>\n",
       "      <td>marinades meat preparation</td>\n",
       "      <td>pantry</td>\n",
       "    </tr>\n",
       "    <tr>\n",
       "      <th>5</th>\n",
       "      <td>6</td>\n",
       "      <td>Dry Nose Oil</td>\n",
       "      <td>11</td>\n",
       "      <td>11</td>\n",
       "      <td>cold flu allergy</td>\n",
       "      <td>personal care</td>\n",
       "    </tr>\n",
       "    <tr>\n",
       "      <th>6</th>\n",
       "      <td>7</td>\n",
       "      <td>Pure Coconut Water With Orange</td>\n",
       "      <td>98</td>\n",
       "      <td>7</td>\n",
       "      <td>juice nectars</td>\n",
       "      <td>beverages</td>\n",
       "    </tr>\n",
       "    <tr>\n",
       "      <th>7</th>\n",
       "      <td>8</td>\n",
       "      <td>Cut Russet Potatoes Steam N' Mash</td>\n",
       "      <td>116</td>\n",
       "      <td>1</td>\n",
       "      <td>frozen produce</td>\n",
       "      <td>frozen</td>\n",
       "    </tr>\n",
       "    <tr>\n",
       "      <th>8</th>\n",
       "      <td>9</td>\n",
       "      <td>Light Strawberry Blueberry Yogurt</td>\n",
       "      <td>120</td>\n",
       "      <td>16</td>\n",
       "      <td>yogurt</td>\n",
       "      <td>dairy eggs</td>\n",
       "    </tr>\n",
       "    <tr>\n",
       "      <th>9</th>\n",
       "      <td>10</td>\n",
       "      <td>Sparkling Orange Juice &amp; Prickly Pear Beverage</td>\n",
       "      <td>115</td>\n",
       "      <td>7</td>\n",
       "      <td>water seltzer sparkling water</td>\n",
       "      <td>beverages</td>\n",
       "    </tr>\n",
       "  </tbody>\n",
       "</table>\n",
       "</div>"
      ],
      "text/plain": [
       "   product_id                                       product_name  aisle_id  \\\n",
       "0           1                         Chocolate Sandwich Cookies        61   \n",
       "1           2                                   All-Seasons Salt       104   \n",
       "2           3               Robust Golden Unsweetened Oolong Tea        94   \n",
       "3           4  Smart Ones Classic Favorites Mini Rigatoni Wit...        38   \n",
       "4           5                          Green Chile Anytime Sauce         5   \n",
       "5           6                                       Dry Nose Oil        11   \n",
       "6           7                     Pure Coconut Water With Orange        98   \n",
       "7           8                  Cut Russet Potatoes Steam N' Mash       116   \n",
       "8           9                  Light Strawberry Blueberry Yogurt       120   \n",
       "9          10     Sparkling Orange Juice & Prickly Pear Beverage       115   \n",
       "\n",
       "   department_id                          aisle     department  \n",
       "0             19                  cookies cakes         snacks  \n",
       "1             13              spices seasonings         pantry  \n",
       "2              7                            tea      beverages  \n",
       "3              1                   frozen meals         frozen  \n",
       "4             13     marinades meat preparation         pantry  \n",
       "5             11               cold flu allergy  personal care  \n",
       "6              7                  juice nectars      beverages  \n",
       "7              1                 frozen produce         frozen  \n",
       "8             16                         yogurt     dairy eggs  \n",
       "9              7  water seltzer sparkling water      beverages  "
      ]
     },
     "execution_count": 22,
     "metadata": {},
     "output_type": "execute_result"
    }
   ],
   "source": [
    "# Merge products, aisles and departments\n",
    "products = pd.merge(products, aisles, how='left', on='aisle_id')\n",
    "products = pd.merge(products, departments, how='left', on='department_id') \n",
    "products.head(10)"
   ]
  },
  {
   "cell_type": "markdown",
   "id": "e91ff586",
   "metadata": {},
   "source": [
    "## 1.3 Data exploration"
   ]
  },
  {
   "cell_type": "code",
   "execution_count": 23,
   "id": "052eab37",
   "metadata": {},
   "outputs": [
    {
     "data": {
      "text/html": [
       "<div>\n",
       "<style scoped>\n",
       "    .dataframe tbody tr th:only-of-type {\n",
       "        vertical-align: middle;\n",
       "    }\n",
       "\n",
       "    .dataframe tbody tr th {\n",
       "        vertical-align: top;\n",
       "    }\n",
       "\n",
       "    .dataframe thead th {\n",
       "        text-align: right;\n",
       "    }\n",
       "</style>\n",
       "<table border=\"1\" class=\"dataframe\">\n",
       "  <thead>\n",
       "    <tr style=\"text-align: right;\">\n",
       "      <th></th>\n",
       "      <th>product_name</th>\n",
       "      <th>product_id</th>\n",
       "      <th>count</th>\n",
       "      <th>department</th>\n",
       "      <th>aisle</th>\n",
       "    </tr>\n",
       "  </thead>\n",
       "  <tbody>\n",
       "    <tr>\n",
       "      <th>0</th>\n",
       "      <td>Banana</td>\n",
       "      <td>24852</td>\n",
       "      <td>472565</td>\n",
       "      <td>produce</td>\n",
       "      <td>fresh fruits</td>\n",
       "    </tr>\n",
       "    <tr>\n",
       "      <th>1</th>\n",
       "      <td>Bag of Organic Bananas</td>\n",
       "      <td>13176</td>\n",
       "      <td>379450</td>\n",
       "      <td>produce</td>\n",
       "      <td>fresh fruits</td>\n",
       "    </tr>\n",
       "    <tr>\n",
       "      <th>2</th>\n",
       "      <td>Organic Strawberries</td>\n",
       "      <td>21137</td>\n",
       "      <td>264683</td>\n",
       "      <td>produce</td>\n",
       "      <td>fresh fruits</td>\n",
       "    </tr>\n",
       "    <tr>\n",
       "      <th>3</th>\n",
       "      <td>Organic Baby Spinach</td>\n",
       "      <td>21903</td>\n",
       "      <td>241921</td>\n",
       "      <td>produce</td>\n",
       "      <td>packaged vegetables fruits</td>\n",
       "    </tr>\n",
       "    <tr>\n",
       "      <th>4</th>\n",
       "      <td>Organic Hass Avocado</td>\n",
       "      <td>47209</td>\n",
       "      <td>213584</td>\n",
       "      <td>produce</td>\n",
       "      <td>fresh fruits</td>\n",
       "    </tr>\n",
       "    <tr>\n",
       "      <th>5</th>\n",
       "      <td>Organic Avocado</td>\n",
       "      <td>47766</td>\n",
       "      <td>176815</td>\n",
       "      <td>produce</td>\n",
       "      <td>fresh fruits</td>\n",
       "    </tr>\n",
       "    <tr>\n",
       "      <th>6</th>\n",
       "      <td>Large Lemon</td>\n",
       "      <td>47626</td>\n",
       "      <td>152657</td>\n",
       "      <td>produce</td>\n",
       "      <td>fresh fruits</td>\n",
       "    </tr>\n",
       "    <tr>\n",
       "      <th>7</th>\n",
       "      <td>Strawberries</td>\n",
       "      <td>16797</td>\n",
       "      <td>142951</td>\n",
       "      <td>produce</td>\n",
       "      <td>fresh fruits</td>\n",
       "    </tr>\n",
       "    <tr>\n",
       "      <th>8</th>\n",
       "      <td>Limes</td>\n",
       "      <td>26209</td>\n",
       "      <td>140627</td>\n",
       "      <td>produce</td>\n",
       "      <td>fresh fruits</td>\n",
       "    </tr>\n",
       "    <tr>\n",
       "      <th>9</th>\n",
       "      <td>Organic Whole Milk</td>\n",
       "      <td>27845</td>\n",
       "      <td>137905</td>\n",
       "      <td>dairy eggs</td>\n",
       "      <td>milk</td>\n",
       "    </tr>\n",
       "  </tbody>\n",
       "</table>\n",
       "</div>"
      ],
      "text/plain": [
       "             product_name  product_id   count  department  \\\n",
       "0                  Banana       24852  472565     produce   \n",
       "1  Bag of Organic Bananas       13176  379450     produce   \n",
       "2    Organic Strawberries       21137  264683     produce   \n",
       "3    Organic Baby Spinach       21903  241921     produce   \n",
       "4    Organic Hass Avocado       47209  213584     produce   \n",
       "5         Organic Avocado       47766  176815     produce   \n",
       "6             Large Lemon       47626  152657     produce   \n",
       "7            Strawberries       16797  142951     produce   \n",
       "8                   Limes       26209  140627     produce   \n",
       "9      Organic Whole Milk       27845  137905  dairy eggs   \n",
       "\n",
       "                        aisle  \n",
       "0                fresh fruits  \n",
       "1                fresh fruits  \n",
       "2                fresh fruits  \n",
       "3  packaged vegetables fruits  \n",
       "4                fresh fruits  \n",
       "5                fresh fruits  \n",
       "6                fresh fruits  \n",
       "7                fresh fruits  \n",
       "8                fresh fruits  \n",
       "9                        milk  "
      ]
     },
     "execution_count": 23,
     "metadata": {},
     "output_type": "execute_result"
    }
   ],
   "source": [
    "# Count the frequency of each product ID in the DataFrame\n",
    "product_counts = df['product_id'].value_counts()\n",
    "product_counts = product_counts.reset_index()\n",
    "product_counts.columns = ['product_id', 'count']\n",
    "product_counts = pd.merge(product_counts, products, how='left', on='product_id')[[ 'product_name', 'product_id', 'count', 'department', 'aisle']]\n",
    "\n",
    "# Show 10 most frequent products\n",
    "product_counts.head(10)\n"
   ]
  },
  {
   "cell_type": "code",
   "execution_count": 24,
   "id": "ce68ea02",
   "metadata": {},
   "outputs": [
    {
     "data": {
      "image/png": "[encoded data removed]",
      "text/plain": [
       "<Figure size 1000x800 with 1 Axes>"
      ]
     },
     "metadata": {},
     "output_type": "display_data"
    }
   ],
   "source": [
    "# Plot 20 most frequent products\n",
    "plt.figure(figsize=(10, 8))\n",
    "sns.barplot(x='count', y='product_name', data=product_counts.head(20), color='c')\n",
    "plt.title('Top 20 Most Frequent Products')\n",
    "plt.xlabel('Frequency')\n",
    "plt.ylabel('Product Name')\n",
    "plt.show()\n",
    "\n"
   ]
  },
  {
   "cell_type": "markdown",
   "id": "4e53cec4",
   "metadata": {},
   "source": [
    "This plot shows top 20 most frequent products. However, we can see that all of them are fruits and vegetables. So, it need to be further explored for every departments and aisles."
   ]
  },
  {
   "cell_type": "code",
   "execution_count": 25,
   "id": "526d00e5",
   "metadata": {},
   "outputs": [
    {
     "data": {
      "image/png": "[encoded data removed]",
      "text/plain": [
       "<Figure size 1000x800 with 1 Axes>"
      ]
     },
     "metadata": {},
     "output_type": "display_data"
    }
   ],
   "source": [
    "# Plot departments\n",
    "department_counts = product_counts.groupby('department')['count'].sum().sort_values(ascending=False).reset_index()\n",
    "\n",
    "plt.figure(figsize=(10, 8))\n",
    "sns.barplot(x='count', y='department', data=department_counts, color='lightblue')  # Using a single color\n",
    "plt.title('Most Frequent Departments')\n",
    "plt.xlabel('Frequency')\n",
    "plt.ylabel('Department')\n",
    "plt.show()\n"
   ]
  },
  {
   "cell_type": "markdown",
   "id": "129dadc9",
   "metadata": {},
   "source": [
    "From this chart, majority of the products are from produce and dairy eggs departments. The sum of frequencies in these two departments weights more than half of the total dataset."
   ]
  },
  {
   "cell_type": "code",
   "execution_count": 26,
   "id": "58e19ef3",
   "metadata": {},
   "outputs": [
    {
     "data": {
      "image/png": "[encoded data removed]",
      "text/plain": [
       "<Figure size 1000x800 with 1 Axes>"
      ]
     },
     "metadata": {},
     "output_type": "display_data"
    }
   ],
   "source": [
    "# Plot 20 most frequent aisles\n",
    "aisle_counts = product_counts.groupby('aisle')['count'].sum().sort_values(ascending=False).reset_index()\n",
    "\n",
    "plt.figure(figsize=(10, 8))\n",
    "sns.barplot(x='count', y='aisle', data=aisle_counts.head(20), color='green') \n",
    "plt.title('Top 10 Most Frequent Aisles')\n",
    "plt.xlabel('Frequency')\n",
    "plt.ylabel('Aisle')\n",
    "plt.show()\n"
   ]
  },
  {
   "cell_type": "markdown",
   "id": "69340650",
   "metadata": {},
   "source": [
    "These plots show that the dataset is kind of imbalanced, the produce department dominates the numbers of products. Fresh fruits and vegetables are the most frequent aisles with very large amounts values compared with others. It tells that this dataset is not balanced, and it may impact the training of unsupervised machine learning algorithms."
   ]
  },
  {
   "cell_type": "code",
   "execution_count": 27,
   "id": "6975d1f4",
   "metadata": {},
   "outputs": [
    {
     "data": {
      "text/html": [
       "<div>\n",
       "<style scoped>\n",
       "    .dataframe tbody tr th:only-of-type {\n",
       "        vertical-align: middle;\n",
       "    }\n",
       "\n",
       "    .dataframe tbody tr th {\n",
       "        vertical-align: top;\n",
       "    }\n",
       "\n",
       "    .dataframe thead th {\n",
       "        text-align: right;\n",
       "    }\n",
       "</style>\n",
       "<table border=\"1\" class=\"dataframe\">\n",
       "  <thead>\n",
       "    <tr style=\"text-align: right;\">\n",
       "      <th></th>\n",
       "      <th>order_id</th>\n",
       "      <th>user_id</th>\n",
       "      <th>eval_set</th>\n",
       "      <th>order_number</th>\n",
       "      <th>order_dow</th>\n",
       "      <th>order_hour_of_day</th>\n",
       "      <th>days_since_prior_order</th>\n",
       "    </tr>\n",
       "  </thead>\n",
       "  <tbody>\n",
       "    <tr>\n",
       "      <th>10</th>\n",
       "      <td>1187899</td>\n",
       "      <td>1</td>\n",
       "      <td>train</td>\n",
       "      <td>11</td>\n",
       "      <td>4</td>\n",
       "      <td>8</td>\n",
       "      <td>14.0</td>\n",
       "    </tr>\n",
       "    <tr>\n",
       "      <th>25</th>\n",
       "      <td>1492625</td>\n",
       "      <td>2</td>\n",
       "      <td>train</td>\n",
       "      <td>15</td>\n",
       "      <td>1</td>\n",
       "      <td>11</td>\n",
       "      <td>30.0</td>\n",
       "    </tr>\n",
       "    <tr>\n",
       "      <th>49</th>\n",
       "      <td>2196797</td>\n",
       "      <td>5</td>\n",
       "      <td>train</td>\n",
       "      <td>5</td>\n",
       "      <td>0</td>\n",
       "      <td>11</td>\n",
       "      <td>6.0</td>\n",
       "    </tr>\n",
       "    <tr>\n",
       "      <th>74</th>\n",
       "      <td>525192</td>\n",
       "      <td>7</td>\n",
       "      <td>train</td>\n",
       "      <td>21</td>\n",
       "      <td>2</td>\n",
       "      <td>11</td>\n",
       "      <td>6.0</td>\n",
       "    </tr>\n",
       "    <tr>\n",
       "      <th>78</th>\n",
       "      <td>880375</td>\n",
       "      <td>8</td>\n",
       "      <td>train</td>\n",
       "      <td>4</td>\n",
       "      <td>1</td>\n",
       "      <td>14</td>\n",
       "      <td>10.0</td>\n",
       "    </tr>\n",
       "  </tbody>\n",
       "</table>\n",
       "</div>"
      ],
      "text/plain": [
       "    order_id  user_id eval_set  order_number  order_dow  order_hour_of_day  \\\n",
       "10   1187899        1    train            11          4                  8   \n",
       "25   1492625        2    train            15          1                 11   \n",
       "49   2196797        5    train             5          0                 11   \n",
       "74    525192        7    train            21          2                 11   \n",
       "78    880375        8    train             4          1                 14   \n",
       "\n",
       "    days_since_prior_order  \n",
       "10                    14.0  \n",
       "25                    30.0  \n",
       "49                     6.0  \n",
       "74                     6.0  \n",
       "78                    10.0  "
      ]
     },
     "execution_count": 27,
     "metadata": {},
     "output_type": "execute_result"
    }
   ],
   "source": [
    "test_df = orders[orders['eval_set'] == 'train']\n",
    "test_df.head()"
   ]
  },
  {
   "cell_type": "code",
   "execution_count": 28,
   "id": "e258a3e4",
   "metadata": {},
   "outputs": [
    {
     "data": {
      "text/html": [
       "<div>\n",
       "<style scoped>\n",
       "    .dataframe tbody tr th:only-of-type {\n",
       "        vertical-align: middle;\n",
       "    }\n",
       "\n",
       "    .dataframe tbody tr th {\n",
       "        vertical-align: top;\n",
       "    }\n",
       "\n",
       "    .dataframe thead th {\n",
       "        text-align: right;\n",
       "    }\n",
       "</style>\n",
       "<table border=\"1\" class=\"dataframe\">\n",
       "  <thead>\n",
       "    <tr style=\"text-align: right;\">\n",
       "      <th></th>\n",
       "      <th>order_id</th>\n",
       "      <th>user_id</th>\n",
       "      <th>eval_set</th>\n",
       "      <th>order_number</th>\n",
       "      <th>order_dow</th>\n",
       "      <th>order_hour_of_day</th>\n",
       "      <th>days_since_prior_order</th>\n",
       "    </tr>\n",
       "  </thead>\n",
       "  <tbody>\n",
       "    <tr>\n",
       "      <th>50</th>\n",
       "      <td>2086598</td>\n",
       "      <td>6</td>\n",
       "      <td>prior</td>\n",
       "      <td>1</td>\n",
       "      <td>5</td>\n",
       "      <td>18</td>\n",
       "      <td>NaN</td>\n",
       "    </tr>\n",
       "    <tr>\n",
       "      <th>51</th>\n",
       "      <td>298250</td>\n",
       "      <td>6</td>\n",
       "      <td>prior</td>\n",
       "      <td>2</td>\n",
       "      <td>4</td>\n",
       "      <td>16</td>\n",
       "      <td>6.0</td>\n",
       "    </tr>\n",
       "    <tr>\n",
       "      <th>52</th>\n",
       "      <td>998866</td>\n",
       "      <td>6</td>\n",
       "      <td>prior</td>\n",
       "      <td>3</td>\n",
       "      <td>2</td>\n",
       "      <td>18</td>\n",
       "      <td>12.0</td>\n",
       "    </tr>\n",
       "    <tr>\n",
       "      <th>53</th>\n",
       "      <td>1528013</td>\n",
       "      <td>6</td>\n",
       "      <td>test</td>\n",
       "      <td>4</td>\n",
       "      <td>3</td>\n",
       "      <td>16</td>\n",
       "      <td>22.0</td>\n",
       "    </tr>\n",
       "  </tbody>\n",
       "</table>\n",
       "</div>"
      ],
      "text/plain": [
       "    order_id  user_id eval_set  order_number  order_dow  order_hour_of_day  \\\n",
       "50   2086598        6    prior             1          5                 18   \n",
       "51    298250        6    prior             2          4                 16   \n",
       "52    998866        6    prior             3          2                 18   \n",
       "53   1528013        6     test             4          3                 16   \n",
       "\n",
       "    days_since_prior_order  \n",
       "50                     NaN  \n",
       "51                     6.0  \n",
       "52                    12.0  \n",
       "53                    22.0  "
      ]
     },
     "execution_count": 28,
     "metadata": {},
     "output_type": "execute_result"
    }
   ],
   "source": [
    "orders[orders['user_id'] == 6]"
   ]
  },
  {
   "cell_type": "markdown",
   "id": "7f4ee6e8",
   "metadata": {},
   "source": [
    "-------\n",
    "# 2. Model Building and Training \n",
    "-----\n",
    "\n"
   ]
  },
  {
   "cell_type": "code",
   "execution_count": 29,
   "id": "97da9bc1",
   "metadata": {},
   "outputs": [],
   "source": [
    "df = df.drop(['eval_set', 'add_to_cart_order', 'reordered'], axis=1)"
   ]
  },
  {
   "cell_type": "code",
   "execution_count": 30,
   "id": "1a4224bd",
   "metadata": {},
   "outputs": [],
   "source": [
    "transactions = df.groupby('order_id')['product_id'].apply(list).tolist()"
   ]
  },
  {
   "cell_type": "code",
   "execution_count": 31,
   "id": "79487732",
   "metadata": {},
   "outputs": [
    {
     "data": {
      "text/plain": [
       "[[33120, 28985, 9327, 45918, 30035, 17794, 40141, 1819, 43668],\n",
       " [33754, 24838, 17704, 21903, 17668, 46667, 17461, 32665],\n",
       " [46842,\n",
       "  26434,\n",
       "  39758,\n",
       "  27761,\n",
       "  10054,\n",
       "  21351,\n",
       "  22598,\n",
       "  34862,\n",
       "  40285,\n",
       "  17616,\n",
       "  25146,\n",
       "  32645,\n",
       "  41276]]"
      ]
     },
     "execution_count": 31,
     "metadata": {},
     "output_type": "execute_result"
    }
   ],
   "source": [
    "# Show sample transactions\n",
    "transactions[:3]"
   ]
  },
  {
   "cell_type": "code",
   "execution_count": 32,
   "id": "54fc403a",
   "metadata": {},
   "outputs": [],
   "source": [
    "te = TransactionEncoder()\n",
    "te_ary = te.fit(transactions).transform(transactions, sparse=True)\n"
   ]
  },
  {
   "cell_type": "code",
   "execution_count": 33,
   "id": "ba5d3297",
   "metadata": {},
   "outputs": [
    {
     "name": "stdout",
     "output_type": "stream",
     "text": [
      "   1      2      3      4      5      6      7      8      9      10     ...  \\\n",
      "0      0      0      0      0      0      0      0      0      0      0  ...   \n",
      "1      0      0      0      0      0      0      0      0      0      0  ...   \n",
      "2      0      0      0      0      0      0      0      0      0      0  ...   \n",
      "3      0      0      0      0      0      0      0      0      0      0  ...   \n",
      "4      0      0      0      0      0      0      0      0      0      0  ...   \n",
      "\n",
      "   49679  49680  49681  49682  49683  49684  49685  49686  49687  49688  \n",
      "0      0      0      0      0      0      0      0      0      0      0  \n",
      "1      0      0      0      0      0      0      0      0      0      0  \n",
      "2      0      0      0      0      0      0      0      0      0      0  \n",
      "3      0      0      0      0      0      0      0      0      0      0  \n",
      "4      0      0      0      0      0      0      0      0      0      0  \n",
      "\n",
      "[5 rows x 49677 columns]\n"
     ]
    }
   ],
   "source": [
    "# Create the matrix for FP growth\n",
    "df = pd.DataFrame.sparse.from_spmatrix(te_ary, columns=te.columns_)\n",
    "print(df.head())"
   ]
  },
  {
   "cell_type": "code",
   "execution_count": 34,
   "id": "5721b008",
   "metadata": {},
   "outputs": [],
   "source": [
    "df.columns = [str(i) for i in df.columns]"
   ]
  },
  {
   "cell_type": "code",
   "execution_count": 35,
   "id": "807dda9e",
   "metadata": {},
   "outputs": [],
   "source": [
    "# Calculate total number of transactions\n",
    "total_transactions = len(transactions)\n",
    "\n",
    "# Calculate normalized support for each item\n",
    "normalized_supports = df.sum(axis=0) / total_transactions\n",
    "\n",
    "# Define the minimum support value as needed\n",
    "min_support = 0.005\n",
    "\n",
    "# Filter items by minimum support threshold\n",
    "items_to_keep = normalized_supports[normalized_supports >= min_support].index\n",
    "df_filtered = df[items_to_keep]"
   ]
  },
  {
   "cell_type": "code",
   "execution_count": 36,
   "id": "4f3598e5",
   "metadata": {},
   "outputs": [
    {
     "data": {
      "text/html": [
       "<div>\n",
       "<style scoped>\n",
       "    .dataframe tbody tr th:only-of-type {\n",
       "        vertical-align: middle;\n",
       "    }\n",
       "\n",
       "    .dataframe tbody tr th {\n",
       "        vertical-align: top;\n",
       "    }\n",
       "\n",
       "    .dataframe thead th {\n",
       "        text-align: right;\n",
       "    }\n",
       "</style>\n",
       "<table border=\"1\" class=\"dataframe\">\n",
       "  <thead>\n",
       "    <tr style=\"text-align: right;\">\n",
       "      <th></th>\n",
       "      <th>support</th>\n",
       "      <th>itemsets</th>\n",
       "    </tr>\n",
       "  </thead>\n",
       "  <tbody>\n",
       "    <tr>\n",
       "      <th>0</th>\n",
       "      <td>0.022625</td>\n",
       "      <td>(17794)</td>\n",
       "    </tr>\n",
       "    <tr>\n",
       "      <th>1</th>\n",
       "      <td>0.020980</td>\n",
       "      <td>(28985)</td>\n",
       "    </tr>\n",
       "    <tr>\n",
       "      <th>2</th>\n",
       "      <td>0.006034</td>\n",
       "      <td>(33120)</td>\n",
       "    </tr>\n",
       "    <tr>\n",
       "      <th>3</th>\n",
       "      <td>0.075251</td>\n",
       "      <td>(21903)</td>\n",
       "    </tr>\n",
       "    <tr>\n",
       "      <th>4</th>\n",
       "      <td>0.016202</td>\n",
       "      <td>(46667)</td>\n",
       "    </tr>\n",
       "  </tbody>\n",
       "</table>\n",
       "</div>"
      ],
      "text/plain": [
       "    support itemsets\n",
       "0  0.022625  (17794)\n",
       "1  0.020980  (28985)\n",
       "2  0.006034  (33120)\n",
       "3  0.075251  (21903)\n",
       "4  0.016202  (46667)"
      ]
     },
     "execution_count": 36,
     "metadata": {},
     "output_type": "execute_result"
    }
   ],
   "source": [
    "# Generate frequent_itemsets using FP growth algorithm\n",
    "frequent_itemsets = fpgrowth(df_filtered, min_support=min_support, use_colnames=True)\n",
    "\n",
    "frequent_itemsets.head()"
   ]
  },
  {
   "cell_type": "code",
   "execution_count": 37,
   "id": "ec26a79c",
   "metadata": {
    "_kg_hide-input": true,
    "execution": {
     "iopub.execute_input": "2022-06-27T14:39:57.343789Z",
     "iopub.status.busy": "2022-06-27T14:39:57.343487Z",
     "iopub.status.idle": "2022-06-27T14:39:57.352673Z",
     "shell.execute_reply": "2022-06-27T14:39:57.350945Z"
    },
    "papermill": {
     "duration": 0.026889,
     "end_time": "2022-06-27T14:39:57.355418",
     "exception": false,
     "start_time": "2022-06-27T14:39:57.328529",
     "status": "completed"
    },
    "tags": []
   },
   "outputs": [
    {
     "data": {
      "text/html": [
       "<div>\n",
       "<style scoped>\n",
       "    .dataframe tbody tr th:only-of-type {\n",
       "        vertical-align: middle;\n",
       "    }\n",
       "\n",
       "    .dataframe tbody tr th {\n",
       "        vertical-align: top;\n",
       "    }\n",
       "\n",
       "    .dataframe thead th {\n",
       "        text-align: right;\n",
       "    }\n",
       "</style>\n",
       "<table border=\"1\" class=\"dataframe\">\n",
       "  <thead>\n",
       "    <tr style=\"text-align: right;\">\n",
       "      <th></th>\n",
       "      <th>antecedents</th>\n",
       "      <th>consequents</th>\n",
       "      <th>support</th>\n",
       "      <th>confidence</th>\n",
       "      <th>lift</th>\n",
       "    </tr>\n",
       "  </thead>\n",
       "  <tbody>\n",
       "    <tr>\n",
       "      <th>73</th>\n",
       "      <td>(28204)</td>\n",
       "      <td>(24852)</td>\n",
       "      <td>0.010558</td>\n",
       "      <td>0.378693</td>\n",
       "      <td>2.576259</td>\n",
       "    </tr>\n",
       "    <tr>\n",
       "      <th>47</th>\n",
       "      <td>(45066)</td>\n",
       "      <td>(24852)</td>\n",
       "      <td>0.008836</td>\n",
       "      <td>0.356128</td>\n",
       "      <td>2.422752</td>\n",
       "    </tr>\n",
       "    <tr>\n",
       "      <th>71</th>\n",
       "      <td>(49683)</td>\n",
       "      <td>(24852)</td>\n",
       "      <td>0.009984</td>\n",
       "      <td>0.329826</td>\n",
       "      <td>2.243815</td>\n",
       "    </tr>\n",
       "    <tr>\n",
       "      <th>106</th>\n",
       "      <td>(19057)</td>\n",
       "      <td>(13176)</td>\n",
       "      <td>0.007267</td>\n",
       "      <td>0.310836</td>\n",
       "      <td>2.633546</td>\n",
       "    </tr>\n",
       "    <tr>\n",
       "      <th>28</th>\n",
       "      <td>(47766)</td>\n",
       "      <td>(24852)</td>\n",
       "      <td>0.016609</td>\n",
       "      <td>0.301982</td>\n",
       "      <td>2.054395</td>\n",
       "    </tr>\n",
       "  </tbody>\n",
       "</table>\n",
       "</div>"
      ],
      "text/plain": [
       "    antecedents consequents   support  confidence      lift\n",
       "73      (28204)     (24852)  0.010558    0.378693  2.576259\n",
       "47      (45066)     (24852)  0.008836    0.356128  2.422752\n",
       "71      (49683)     (24852)  0.009984    0.329826  2.243815\n",
       "106     (19057)     (13176)  0.007267    0.310836  2.633546\n",
       "28      (47766)     (24852)  0.016609    0.301982  2.054395"
      ]
     },
     "execution_count": 37,
     "metadata": {},
     "output_type": "execute_result"
    }
   ],
   "source": [
    "# Generate association rules\n",
    "min_confidence = 0.05\n",
    "\n",
    "rules = association_rules(frequent_itemsets, metric=\"confidence\", min_threshold=min_confidence)\n",
    "rules = rules.sort_values(by=\"confidence\", ascending=False)\n",
    "\n",
    "rules[['antecedents', 'consequents', 'support', 'confidence', 'lift']].head()\n"
   ]
  },
  {
   "cell_type": "markdown",
   "id": "d06510c3",
   "metadata": {},
   "source": [
    "Here is the explanation of association rules:\n",
    "\n",
    "| Term                  | Definition                                                                                               |\n",
    "|-----------------------|----------------------------------------------------------------------------------------------------------|\n",
    "| **Antecedents**       | Items on the left-hand side of the rules (reasons).                                                      |\n",
    "| **Consequents**       | Items on the right side of the rules (consequences).                                                     |\n",
    "| **Support**           | Support value indicating the probability of the antecedent and consequent occurring together.            |\n",
    "| **Confidence**        | Measures the likelihood that if the antecedent exists, then the consequent also exists (support / antecedent support). |\n",
    "| **Lift**              | Expresses the strength of an association rule. Higher values indicate a stronger association (confidence / consequent support). |"
   ]
  },
  {
   "cell_type": "code",
   "execution_count": 38,
   "id": "7dc6435c",
   "metadata": {},
   "outputs": [],
   "source": [
    "# Functions for recommned products from one cart\n",
    "def recommend_products(current_cart, rules):\n",
    "    recommended = set()\n",
    "    current_cart = [str(x) for x in current_cart]\n",
    "    current_cart_set = frozenset(current_cart)\n",
    "    applicable_rules = rules[rules['antecedents'].apply(lambda x: x.issubset(current_cart_set))]\n",
    "    applicable_rules = applicable_rules.sort_values(by='confidence', ascending=False)\n",
    "\n",
    "    if applicable_rules.empty:\n",
    "        return None\n",
    "\n",
    "    for _, rule in applicable_rules.iterrows():\n",
    "        recommended.update(int(item) for item in rule['consequents'])\n",
    "\n",
    "    return recommended\n",
    "\n",
    "\n",
    "# Function for getting product names from id\n",
    "def get_product_names(product_ids, products_df=products):\n",
    "    if product_ids == None:\n",
    "        return None\n",
    "    product_names = {}\n",
    "    for product_id in product_ids:\n",
    "        product_name = products_df.loc[products_df['product_id'] == int(product_id), 'product_name'].values[0]\n",
    "        product_names[product_id] = product_name\n",
    "    return product_names\n"
   ]
  },
  {
   "cell_type": "code",
   "execution_count": 39,
   "id": "41e4802b",
   "metadata": {},
   "outputs": [
    {
     "name": "stdout",
     "output_type": "stream",
     "text": [
      "Current cart: {'28204': 'Organic Fuji Apple', '47766': 'Organic Avocado'}\n",
      "Recommended products based on current cart: {26209: 'Limes', 47626: 'Large Lemon', 21903: 'Organic Baby Spinach', 21137: 'Organic Strawberries', 24852: 'Banana', 13176: 'Bag of Organic Bananas'}\n"
     ]
    }
   ],
   "source": [
    "current_cart = ['28204', '47766']  \n",
    "print('Current cart:', get_product_names(current_cart))\n",
    "recommended_products = recommend_products(current_cart, rules)\n",
    "print(\"Recommended products based on current cart:\", get_product_names(recommended_products))\n"
   ]
  },
  {
   "cell_type": "code",
   "execution_count": 40,
   "id": "4c5e6016",
   "metadata": {},
   "outputs": [
    {
     "name": "stdout",
     "output_type": "stream",
     "text": [
      "Current cart: {33754: 'Total 2% with Strawberry Lowfat Greek Strained Yogurt', 24838: 'Unsweetened Almondmilk', 17704: 'Lemons', 21903: 'Organic Baby Spinach', 17668: 'Unsweetened Chocolate Almond Breeze Almond Milk', 46667: 'Organic Ginger Root', 17461: 'Air Chilled Organic Boneless Skinless Chicken Breasts', 32665: 'Organic Ezekiel 49 Bread Cinnamon Raisin'}\n",
      "Recommended products based on current cart: {26209: 'Limes', 24964: 'Organic Garlic', 27845: 'Organic Whole Milk', 47209: 'Organic Hass Avocado', 47626: 'Large Lemon', 45007: 'Organic Zucchini', 21137: 'Organic Strawberries', 24852: 'Banana', 47766: 'Organic Avocado', 22935: 'Organic Yellow Onion', 13176: 'Bag of Organic Bananas', 27966: 'Organic Raspberries'}\n"
     ]
    }
   ],
   "source": [
    "current_cart = transactions[1]  \n",
    "print('Current cart:', get_product_names(current_cart))\n",
    "recommended_products = recommend_products(current_cart, rules)\n",
    "print(\"Recommended products based on current cart:\", get_product_names(recommended_products))"
   ]
  },
  {
   "cell_type": "code",
   "execution_count": 41,
   "id": "b6194ade",
   "metadata": {},
   "outputs": [
    {
     "name": "stdout",
     "output_type": "stream",
     "text": [
      "Current cart: {47141: 'Cola', 47877: 'Coke Zero', 20361: 'Winterfrost Sugar-Free Gum'}\n",
      "Recommended products based on current cart: None\n"
     ]
    }
   ],
   "source": [
    "current_cart = transactions[10000]  \n",
    "print('Current cart:', get_product_names(current_cart))\n",
    "recommended_products = recommend_products(current_cart, rules)\n",
    "print(\"Recommended products based on current cart:\", get_product_names(recommended_products))"
   ]
  },
  {
   "cell_type": "markdown",
   "id": "6c25b1fe",
   "metadata": {},
   "source": [
    "It shows that not all transactions can be recommended, so I decide to evaluate this model by calculating the rate of recommendation."
   ]
  },
  {
   "cell_type": "markdown",
   "id": "4b8fdb25",
   "metadata": {},
   "source": [
    "_______\n",
    "# 3. Model Evaluation\n",
    "\n",
    "_______\n"
   ]
  },
  {
   "cell_type": "code",
   "execution_count": 42,
   "id": "d5536b22",
   "metadata": {},
   "outputs": [
    {
     "name": "stdout",
     "output_type": "stream",
     "text": [
      "1866978\n",
      "58.07313132645323 %\n"
     ]
    }
   ],
   "source": [
    "count = 0\n",
    "for transaction in transactions:\n",
    "    if recommend_products(transaction, rules) != None:\n",
    "        count += 1\n",
    "\n",
    "print(count)\n",
    "print(count/len(transactions)*100, \"%\")"
   ]
  },
  {
   "cell_type": "markdown",
   "id": "96551969",
   "metadata": {},
   "source": [
    "In the transactions trained by order_products_prior dataset, it can have recommendations for 1866978 transactions which is about 58.07% of the total training transactions.  \n",
    "Let's apply this to test dataframe."
   ]
  },
  {
   "cell_type": "code",
   "execution_count": 43,
   "id": "f7955204",
   "metadata": {},
   "outputs": [],
   "source": [
    "test_df = pd.merge(order_products_train, orders, how='inner', on='order_id')\n",
    "test_df = test_df.drop(['eval_set', 'add_to_cart_order', 'reordered'], axis=1)\n",
    "test_transactions = test_df.groupby('order_id')['product_id'].apply(list).tolist()"
   ]
  },
  {
   "cell_type": "code",
   "execution_count": 44,
   "id": "9e510a41",
   "metadata": {},
   "outputs": [
    {
     "name": "stdout",
     "output_type": "stream",
     "text": [
      "Current cart: {39612: 'Grated Pecorino Romano Cheese', 19660: 'Spring Water', 49235: 'Organic Half & Half', 43086: 'Super Greens Salad', 46620: 'Cage Free Extra Large Grade AA Eggs', 34497: 'Prosciutto, Americano', 48679: 'Organic Garnet Sweet Potato (Yam)', 46979: 'Asparagus'}\n",
      "Recommended products based on current cart: None\n"
     ]
    }
   ],
   "source": [
    "current_cart = test_transactions[1]  \n",
    "print('Current cart:', get_product_names(current_cart))\n",
    "recommended_products = recommend_products(current_cart, rules)\n",
    "print(\"Recommended products based on current cart:\", get_product_names(recommended_products))"
   ]
  },
  {
   "cell_type": "code",
   "execution_count": 45,
   "id": "4dd5aebc",
   "metadata": {},
   "outputs": [
    {
     "name": "stdout",
     "output_type": "stream",
     "text": [
      "Current cart: {49302: 'Bulgarian Yogurt', 11109: 'Organic 4% Milk Fat Whole Milk Cottage Cheese', 10246: 'Organic Celery Hearts', 49683: 'Cucumber Kirby', 43633: 'Lightly Smoked Sardines in Olive Oil', 13176: 'Bag of Organic Bananas', 47209: 'Organic Hass Avocado', 22035: 'Organic Whole String Cheese'}\n",
      "Recommended products based on current cart: {26209: 'Limes', 24964: 'Organic Garlic', 27845: 'Organic Whole Milk', 47209: 'Organic Hass Avocado', 30391: 'Organic Cucumber', 39275: 'Organic Blueberries', 47626: 'Large Lemon', 21903: 'Organic Baby Spinach', 45007: 'Organic Zucchini', 21137: 'Organic Strawberries', 19057: 'Organic Large Extra Fancy Fuji Apple', 24852: 'Banana', 5876: 'Organic Lemon', 8277: 'Apple Honeycrisp Organic', 22935: 'Organic Yellow Onion', 13176: 'Bag of Organic Bananas', 47766: 'Organic Avocado', 27966: 'Organic Raspberries'}\n"
     ]
    }
   ],
   "source": [
    "current_cart =  test_transactions[0]  \n",
    "print('Current cart:', get_product_names(current_cart))\n",
    "recommended_products = recommend_products(current_cart, rules)\n",
    "print(\"Recommended products based on current cart:\", get_product_names(recommended_products))"
   ]
  },
  {
   "cell_type": "markdown",
   "id": "0d461582",
   "metadata": {},
   "source": [
    "It shows that some of the transactions do not have a recommendation, so I would like to find the percentage of test transactions that can be recommended by this algorithm."
   ]
  },
  {
   "cell_type": "code",
   "execution_count": 46,
   "id": "11878431",
   "metadata": {},
   "outputs": [
    {
     "name": "stdout",
     "output_type": "stream",
     "text": [
      "74430\n",
      "56.726291641579465 %\n"
     ]
    }
   ],
   "source": [
    "count = 0\n",
    "for transaction in test_transactions:\n",
    "    if recommend_products(transaction, rules) != None:\n",
    "        count += 1\n",
    "\n",
    "print(count)\n",
    "print(count/len(test_transactions)*100, \"%\")"
   ]
  },
  {
   "cell_type": "markdown",
   "id": "8068afac",
   "metadata": {},
   "source": [
    "The recommendation rate for the test transactions is 56.73%, which is comparable to the performance seen with the train_transactions. This indicates that the algorithm might be struggling with data imbalance issues, leading to its inability to effectively recommend similar transactions in the test dataset as those in the training dataset."
   ]
  },
  {
   "cell_type": "markdown",
   "id": "c1af61c7",
   "metadata": {
    "papermill": {
     "duration": 0.014797,
     "end_time": "2022-06-27T14:40:22.833497",
     "exception": false,
     "start_time": "2022-06-27T14:40:22.818700",
     "status": "completed"
    },
    "tags": []
   },
   "source": [
    "______ \n",
    "# 4. Conclusions\n",
    "______\n",
    "\n"
   ]
  },
  {
   "cell_type": "markdown",
   "id": "d8fd1597",
   "metadata": {},
   "source": [
    "### 1. Instacart Dataset\n",
    "I've decided to apply the skills I've acquired in class to tackle a real-world problem using the Instacart dataset, which is rich with transaction data from customer orders. This dataset provides extensive details, necessitating a focus on specific segments for analysis. Thanks to its substantial volume, the dataset is well-suited for efficiently applying the FP-Growth algorithm in building a recommendation engine. However, a significant challenge arises due to the imbalance within the dataset—predominantly, the orders consist of fruits and vegetables. This imbalance means that many products are not adequately represented in the training process, which limits the effectiveness of the recommendation algorithms in suggesting a wide range of products.\n"
   ]
  },
  {
   "cell_type": "markdown",
   "id": "527b8e83",
   "metadata": {},
   "source": [
    "### 2. FP growth algorithm \n",
    "\n",
    "The FP-Growth algorithm, known for its efficiency in mining complete sets of frequent itemsets without candidate generation, is well-suited for the Instacart dataset, which includes extensive grocery order data. This algorithm facilitates the discovery of common purchasing patterns, enhances recommendation systems, and optimizes store layout. However, the algorithm's effectiveness can be limited by the dataset's significant imbalance, where common items like fruits and vegetables overshadow less frequent but potentially interesting item associations. To mitigate this, strategies such as adjusting support thresholds, weighting items differently, and segmenting the data can help uncover more diverse and meaningful patterns, thereby enhancing the overall utility of the FP-Growth application in analyzing consumer behavior within the Instacart dataset.\n",
    "\n",
    "\n"
   ]
  },
  {
   "cell_type": "markdown",
   "id": "721fbca7",
   "metadata": {},
   "source": [
    "### 3. Possible improvment\n",
    "\n",
    "We can try to combine FP-Growth with other recommendation algorithms like collaborative filtering or matrix factorization to create a hybrid system. We can use the strengths of multiple methodologies, providing a more robust solution that can better handle diverse data characteristics and improve recommendation diversity and accuracy."
   ]
  },
  {
   "cell_type": "markdown",
   "id": "250e2939",
   "metadata": {},
   "source": [
    "# THANK YOU FOR READING!"
   ]
  },
  {
   "cell_type": "markdown",
   "id": "8e87f28d",
   "metadata": {},
   "source": []
  }
 ],
 "metadata": {
  "kernelspec": {
   "display_name": "Python 3",
   "language": "python",
   "name": "python3"
  },
  "language_info": {
   "codemirror_mode": {
    "name": "ipython",
    "version": 3
   },
   "file_extension": ".py",
   "mimetype": "text/x-python",
   "name": "python",
   "nbconvert_exporter": "python",
   "pygments_lexer": "ipython3",
   "version": "3.11.4"
  },
  "papermill": {
   "default_parameters": {},
   "duration": 39.703903,
   "end_time": "2022-06-27T14:40:23.903158",
   "environment_variables": {},
   "exception": null,
   "input_path": "__notebook__.ipynb",
   "output_path": "__notebook__.ipynb",
   "parameters": {},
   "start_time": "2022-06-27T14:39:44.199255",
   "version": "2.3.4"
  }
 },
 "nbformat": 4,
 "nbformat_minor": 5
}
